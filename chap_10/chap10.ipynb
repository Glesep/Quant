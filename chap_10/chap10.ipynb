{
 "cells": [
  {
   "cell_type": "markdown",
   "metadata": {},
   "source": [
    "# 10.1"
   ]
  },
  {
   "cell_type": "code",
   "execution_count": null,
   "metadata": {},
   "outputs": [],
   "source": [
    "# 최근 영업일 데이터 뽑기\n",
    "\n",
    "import requests as rq\n",
    "from bs4 import BeautifulSoup\n",
    "\n",
    "url = 'https://finance.naver.com/sise/sise_deposit.nhn'\n",
    "data = rq.get(url)\n",
    "data_html = BeautifulSoup(data.content)\n",
    "parse_day = data_html.select_one(\n",
    "    'div.subtop_sise_graph2 > ul.subtop_chart_note > li > span.tah').text   # select_one - 해당 데이터 태그 추출\n",
    "\n",
    "print(parse_day)"
   ]
  },
  {
   "cell_type": "code",
   "execution_count": null,
   "metadata": {},
   "outputs": [],
   "source": [
    "import re\n",
    "\n",
    "biz_day = re.findall('[0-9]+', parse_day)   # 숫자에 해당하는 부분 추출\n",
    "biz_day = ''.join(biz_day)  # 숫자 합쳐주기\n",
    "\n",
    "print(biz_day)"
   ]
  },
  {
   "cell_type": "markdown",
   "metadata": {},
   "source": [
    "## 10.2 한국거래소 업종분류 현황 및 개별지표 크롤링"
   ]
  },
  {
   "cell_type": "markdown",
   "metadata": {},
   "source": [
    "## 10.2.1"
   ]
  },
  {
   "cell_type": "code",
   "execution_count": null,
   "metadata": {},
   "outputs": [],
   "source": [
    "# 1. http://data.krx.co.kr/contents/MDC/MDI/mdiLoader/index.cmd?menuId=MDC0201에서 CSV 데이터를 받아오기 위한 OTP 받아오기\n",
    "\n",
    "import requests as rq\n",
    "import cloudscraper     # 보안서비스 우회 요청 처리 라이브러리\n",
    "from io import BytesIO\n",
    "import pandas as pd\n",
    "\n",
    "gen_otp_url = 'http://data.krx.co.kr/comm/fileDn/GenerateOTP/generate.cmd'\n",
    "gen_otp_stk = {\n",
    "    'locale':'ko-KR',\n",
    "    'mktId': 'STK', # 코스피 종목\n",
    "    'trdDd': biz_day,\n",
    "    'money':'1',\n",
    "    'csvxls_isNo':'false',\n",
    "    'name':'fileDown',\n",
    "    'url':'dbms/MDC/STAT/standard/MDCSTAT03901'\n",
    "}\n",
    "# headers = {'Referer':'http://data.krx.co.kr/contents/MDC/MDI/mdiLoader/index.cmd?menuId=MDC0201'}   # Referer: 링크를 통해 각각의 웹사이트로 방문할 때 남는 흔적, 이 흔적이 없으면 서버가 로봇으로 인식해 정보를 주지 않음\n",
    "\n",
    "scraper = cloudscraper.create_scraper()\n",
    "\n",
    "response = scraper.post(gen_otp_url, params=gen_otp_stk)    # 포스트 요청 - cloudscraper 사용하여 요청 우회\n",
    "\n",
    "otp_stk = response.text\n",
    "\n",
    "print(otp_stk)"
   ]
  },
  {
   "cell_type": "code",
   "execution_count": null,
   "metadata": {},
   "outputs": [],
   "source": [
    "# 위의 과정을 거처 생성된 OTP를 제출 시, 원하는 데이터 다운 가능\n",
    "\n",
    "down_url = 'http://data.krx.co.kr/comm/fileDn/download_csv/download.cmd'\n",
    "down_sector_stk = scraper.post(down_url, params={'code': otp_stk})              # cloudscraper 사용\n",
    "sector_stk = pd.read_csv(BytesIO(down_sector_stk.content), encoding='EUC-KR')   # BytesIO : 받은 데이터의 content 부분을 바이너리 스트림으로 만든 후 read_csv 함수를 통해 데이터 읽어오기\n",
    "\n",
    "sector_stk.head()"
   ]
  },
  {
   "cell_type": "code",
   "execution_count": null,
   "metadata": {},
   "outputs": [],
   "source": [
    "# 코스닥 시작 데이터도 동일 과정을 통해 다운\n",
    "\n",
    "gen_otp_ksq = {\n",
    "    'locale':'ko-KR',\n",
    "    'mktId': 'KSQ', # 코스피 종목\n",
    "    'trdDd': biz_day,\n",
    "    'money':'1',\n",
    "    'csvxls_isNo':'false',\n",
    "    'name':'fileDown',\n",
    "    'url':'dbms/MDC/STAT/standard/MDCSTAT03901'\n",
    "}\n",
    "\n",
    "otp_ksq = scraper.post(gen_otp_url, params=gen_otp_ksq).text\n",
    "\n",
    "down_sector_ksq = scraper.post(down_url, params={'code': otp_ksq})\n",
    "sector_ksq = pd.read_csv(BytesIO(down_sector_ksq.content), encoding='EUC-KR')\n",
    "\n",
    "sector_ksq.head()"
   ]
  },
  {
   "cell_type": "code",
   "execution_count": null,
   "metadata": {},
   "outputs": [],
   "source": [
    "# 코스피, 코스닥 데이터 합치기\n",
    "\n",
    "krx_sector = pd.concat([sector_stk, sector_ksq]).reset_index(drop=True)     # 두 데이터 합쳐주고 reset_index()로 인덱스 리셋, drop=True로 인덱스로 세팅한 열을 삭제\n",
    "krx_sector['종목명'] = krx_sector['종목명'].str.strip()     # 종목명에 공백이 있는 경우 삭제\n",
    "krx_sector['기준일'] = biz_day\n",
    "\n",
    "krx_sector.head()"
   ]
  },
  {
   "cell_type": "markdown",
   "metadata": {},
   "source": [
    "## 10.2.2"
   ]
  },
  {
   "cell_type": "code",
   "execution_count": null,
   "metadata": {},
   "outputs": [],
   "source": [
    "# 개별지표 OTP 생성 후 데이터 불러오기\n",
    "\n",
    "import cloudscraper     # 보안서비스 우회 요청 처리 라이브러리\n",
    "from io import BytesIO\n",
    "import pandas as pd\n",
    "\n",
    "gen_otp_url = 'http://data.krx.co.kr/comm/fileDn/GenerateOTP/generate.cmd'\n",
    "gen_otp_data = {\n",
    "    'searchType':'1',\n",
    "    'mktId':'ALL',\n",
    "    'trdDd':biz_day,\n",
    "    'csvxls_isNo':'false',\n",
    "    'name':'fileDown',\n",
    "    'url':'dbms/MDC/STAT/standard/MDCSTAT03501'\n",
    "}\n",
    "# headers={'Referer':'http://data.krx.co.kr/contents/MDC/MDI/mdiLoader'}\n",
    "scraper = cloudscraper.create_scraper()\n",
    "otp = scraper.post(gen_otp_url, params=gen_otp_data).text\n",
    "\n",
    "down_url = 'http://data.krx.co.kr/comm/fileDn/download_csv/download.cmd'\n",
    "krx_ind = scraper.post(down_url, params={'code': otp})\n",
    "\n",
    "krx_ind = pd.read_csv(BytesIO(krx_ind.content), encoding='EUC-KR')\n",
    "krx_ind['종목명'] = krx_ind['종목명'].str.strip()   # 종목명 없는 항목은 삭제"
   ]
  }
 ],
 "metadata": {
  "kernelspec": {
   "display_name": "quant",
   "language": "python",
   "name": "python3"
  },
  "language_info": {
   "codemirror_mode": {
    "name": "ipython",
    "version": 3
   },
   "file_extension": ".py",
   "mimetype": "text/x-python",
   "name": "python",
   "nbconvert_exporter": "python",
   "pygments_lexer": "ipython3",
   "version": "3.12.3"
  }
 },
 "nbformat": 4,
 "nbformat_minor": 2
}
