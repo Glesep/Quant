{
 "cells": [
  {
   "cell_type": "markdown",
   "metadata": {},
   "source": [
    "# 8.2"
   ]
  },
  {
   "cell_type": "markdown",
   "metadata": {},
   "source": [
    "---"
   ]
  },
  {
   "cell_type": "markdown",
   "metadata": {},
   "source": [
    "## 8.2.1.1"
   ]
  },
  {
   "cell_type": "code",
   "execution_count": null,
   "metadata": {},
   "outputs": [
    {
     "data": {
      "text/plain": [
       "b'<!DOCTYPE html>\\n<html lang=\"en\">\\n<head>\\n\\t<meta charset=\"UTF-8\">\\n\\t<title>Quotes to Scrape</title>\\n    <link rel=\"stylesheet\" href=\"/static/bootstrap.min.css\">\\n    <link rel=\"stylesheet\" href=\"/static/main.css\">\\n    \\n    \\n</head>\\n<body>\\n    <div class=\"container\">\\n        <div class=\"row header-box\">\\n            <div class=\"col-md-8\">\\n                <h1>\\n                    <a href=\"/\" style=\"text-decoration: none\">Quotes to Scrape</a>\\n                </h1>\\n            </div>\\n            <div class=\"col-md-4\">\\n                <p>\\n                \\n                    <a href=\"/login\">Login</a>\\n                \\n                </p>\\n            </div>\\n        </div>\\n    \\n\\n<div class=\"row\">\\n    <div class=\"col-md-8\">\\n\\n    <div class=\"quote\" itemscope itemtype=\"http://schema.org/CreativeWork\">\\n        <span class=\"text\" itemprop=\"text\">\\xe2\\x80\\x9cThe world as we have created it is a process of our thinking. It cannot be changed without changing our thinking.\\xe2\\x80\\x9d</span>\\n        <span>by <small class=\"'"
      ]
     },
     "execution_count": 2,
     "metadata": {},
     "output_type": "execute_result"
    }
   ],
   "source": [
    "import requests as rq   # 웹페이지 요청 라이브러리\n",
    "\n",
    "url = 'https://quotes.toscrape.com/'\n",
    "quote = rq.get(url)\n",
    "\n",
    "quote.content[:1000]"
   ]
  },
  {
   "cell_type": "code",
   "execution_count": null,
   "metadata": {},
   "outputs": [
    {
     "data": {
      "text/plain": [
       "[<meta charset=\"utf-8\"/>,\n",
       " <title>Quotes to Scrape</title>,\n",
       " <link href=\"/static/bootstrap.min.css\" rel=\"stylesheet\"/>,\n",
       " <link href=\"/static/main.css\" rel=\"stylesheet\"/>]"
      ]
     },
     "execution_count": 6,
     "metadata": {},
     "output_type": "execute_result"
    }
   ],
   "source": [
    "from bs4 import BeautifulSoup   # html 형식으로 뽑을 수 있게 잘 바꿔주는 라이브러리\n",
    "\n",
    "quote_html = BeautifulSoup(quote.content, 'html.parser')\n",
    "quote_html.head()"
   ]
  },
  {
   "cell_type": "code",
   "execution_count": 8,
   "metadata": {},
   "outputs": [
    {
     "data": {
      "text/plain": [
       "<div class=\"quote\" itemscope=\"\" itemtype=\"http://schema.org/CreativeWork\">\n",
       "<span class=\"text\" itemprop=\"text\">“The world as we have created it is a process of our thinking. It cannot be changed without changing our thinking.”</span>\n",
       "<span>by <small class=\"author\" itemprop=\"author\">Albert Einstein</small>\n",
       "<a href=\"/author/Albert-Einstein\">(about)</a>\n",
       "</span>\n",
       "<div class=\"tags\">\n",
       "            Tags:\n",
       "            <meta class=\"keywords\" content=\"change,deep-thoughts,thinking,world\" itemprop=\"keywords\"/>\n",
       "<a class=\"tag\" href=\"/tag/change/page/1/\">change</a>\n",
       "<a class=\"tag\" href=\"/tag/deep-thoughts/page/1/\">deep-thoughts</a>\n",
       "<a class=\"tag\" href=\"/tag/thinking/page/1/\">thinking</a>\n",
       "<a class=\"tag\" href=\"/tag/world/page/1/\">world</a>\n",
       "</div>\n",
       "</div>"
      ]
     },
     "execution_count": 8,
     "metadata": {},
     "output_type": "execute_result"
    }
   ],
   "source": [
    "# 명언이 존재하는 div 태그를 먼저 뽑음\n",
    "\n",
    "quote_div = quote_html.find_all('div', class_='quote')\n",
    "\n",
    "quote_div[0]"
   ]
  },
  {
   "cell_type": "code",
   "execution_count": 9,
   "metadata": {},
   "outputs": [
    {
     "data": {
      "text/plain": [
       "[<span class=\"text\" itemprop=\"text\">“The world as we have created it is a process of our thinking. It cannot be changed without changing our thinking.”</span>]"
      ]
     },
     "execution_count": 9,
     "metadata": {},
     "output_type": "execute_result"
    }
   ],
   "source": [
    "# 명언이 존재하는 div 태그 내의 span 태그를 따로 뽑기\n",
    "\n",
    "quote_span = quote_div[0].find_all('span', class_='text')\n",
    "\n",
    "quote_span"
   ]
  },
  {
   "cell_type": "code",
   "execution_count": 15,
   "metadata": {},
   "outputs": [
    {
     "data": {
      "text/plain": [
       "'“The world as we have created it is a process of our thinking. It cannot be changed without changing our thinking.”'"
      ]
     },
     "execution_count": 15,
     "metadata": {},
     "output_type": "execute_result"
    }
   ],
   "source": [
    "# span 태그 내의 텍스트 데이터만 추출\n",
    "\n",
    "quote_span[0].text"
   ]
  },
  {
   "cell_type": "code",
   "execution_count": 16,
   "metadata": {},
   "outputs": [
    {
     "data": {
      "text/plain": [
       "['“The world as we have created it is a process of our thinking. It cannot be changed without changing our thinking.”',\n",
       " '“It is our choices, Harry, that show what we truly are, far more than our abilities.”',\n",
       " '“There are only two ways to live your life. One is as though nothing is a miracle. The other is as though everything is a miracle.”',\n",
       " '“The person, be it gentleman or lady, who has not pleasure in a good novel, must be intolerably stupid.”',\n",
       " \"“Imperfection is beauty, madness is genius and it's better to be absolutely ridiculous than absolutely boring.”\",\n",
       " '“Try not to become a man of success. Rather become a man of value.”',\n",
       " '“It is better to be hated for what you are than to be loved for what you are not.”',\n",
       " \"“I have not failed. I've just found 10,000 ways that won't work.”\",\n",
       " \"“A woman is like a tea bag; you never know how strong it is until it's in hot water.”\",\n",
       " '“A day without sunshine is like, you know, night.”']"
      ]
     },
     "execution_count": 16,
     "metadata": {},
     "output_type": "execute_result"
    }
   ],
   "source": [
    "# 위의 과정을 한번에 처리하기\n",
    "\n",
    "quote_div = quote_html.find_all('div', class_='quote')\n",
    "\n",
    "[i.find_all('span', class_='text')[0].text for i in quote_div]"
   ]
  },
  {
   "cell_type": "markdown",
   "metadata": {},
   "source": [
    "---"
   ]
  },
  {
   "cell_type": "markdown",
   "metadata": {},
   "source": [
    "## 8.2.1.2"
   ]
  },
  {
   "cell_type": "code",
   "execution_count": 21,
   "metadata": {},
   "outputs": [
    {
     "data": {
      "text/plain": [
       "[<span class=\"text\" itemprop=\"text\">“The world as we have created it is a process of our thinking. It cannot be changed without changing our thinking.”</span>,\n",
       " <span class=\"text\" itemprop=\"text\">“It is our choices, Harry, that show what we truly are, far more than our abilities.”</span>,\n",
       " <span class=\"text\" itemprop=\"text\">“There are only two ways to live your life. One is as though nothing is a miracle. The other is as though everything is a miracle.”</span>,\n",
       " <span class=\"text\" itemprop=\"text\">“The person, be it gentleman or lady, who has not pleasure in a good novel, must be intolerably stupid.”</span>,\n",
       " <span class=\"text\" itemprop=\"text\">“Imperfection is beauty, madness is genius and it's better to be absolutely ridiculous than absolutely boring.”</span>,\n",
       " <span class=\"text\" itemprop=\"text\">“Try not to become a man of success. Rather become a man of value.”</span>,\n",
       " <span class=\"text\" itemprop=\"text\">“It is better to be hated for what you are than to be loved for what you are not.”</span>,\n",
       " <span class=\"text\" itemprop=\"text\">“I have not failed. I've just found 10,000 ways that won't work.”</span>,\n",
       " <span class=\"text\" itemprop=\"text\">“A woman is like a tea bag; you never know how strong it is until it's in hot water.”</span>,\n",
       " <span class=\"text\" itemprop=\"text\">“A day without sunshine is like, you know, night.”</span>]"
      ]
     },
     "execution_count": 21,
     "metadata": {},
     "output_type": "execute_result"
    }
   ],
   "source": [
    "# select 함수 내에 찾고자 하는 태그를 입력, 클래스명이 존재할 경우 . 이후에 클래스명 입력\n",
    "# 여러 태그를 찾아 내려갈 때는 > 사용\n",
    "quote_text = quote_html.select('div.quote > span.text')\n",
    "\n",
    "quote_text"
   ]
  },
  {
   "cell_type": "code",
   "execution_count": 20,
   "metadata": {},
   "outputs": [
    {
     "data": {
      "text/plain": [
       "['“The world as we have created it is a process of our thinking. It cannot be changed without changing our thinking.”',\n",
       " '“It is our choices, Harry, that show what we truly are, far more than our abilities.”',\n",
       " '“There are only two ways to live your life. One is as though nothing is a miracle. The other is as though everything is a miracle.”',\n",
       " '“The person, be it gentleman or lady, who has not pleasure in a good novel, must be intolerably stupid.”',\n",
       " \"“Imperfection is beauty, madness is genius and it's better to be absolutely ridiculous than absolutely boring.”\",\n",
       " '“Try not to become a man of success. Rather become a man of value.”',\n",
       " '“It is better to be hated for what you are than to be loved for what you are not.”',\n",
       " \"“I have not failed. I've just found 10,000 ways that won't work.”\",\n",
       " \"“A woman is like a tea bag; you never know how strong it is until it's in hot water.”\",\n",
       " '“A day without sunshine is like, you know, night.”']"
      ]
     },
     "execution_count": 20,
     "metadata": {},
     "output_type": "execute_result"
    }
   ],
   "source": [
    "quote_text_list = [i.text for i in quote_text]\n",
    "\n",
    "quote_text_list"
   ]
  },
  {
   "cell_type": "code",
   "execution_count": 25,
   "metadata": {},
   "outputs": [
    {
     "data": {
      "text/plain": [
       "['Albert Einstein',\n",
       " 'J.K. Rowling',\n",
       " 'Albert Einstein',\n",
       " 'Jane Austen',\n",
       " 'Marilyn Monroe',\n",
       " 'Albert Einstein',\n",
       " 'André Gide',\n",
       " 'Thomas A. Edison',\n",
       " 'Eleanor Roosevelt',\n",
       " 'Steve Martin']"
      ]
     },
     "execution_count": 25,
     "metadata": {},
     "output_type": "execute_result"
    }
   ],
   "source": [
    "# 말한 사람 이름 추출하기\n",
    "quote_author = quote_html.select('div.quote > span > small.author')\n",
    "\n",
    "quote_author_list = [i.text for i in quote_author]\n",
    "quote_author_list"
   ]
  },
  {
   "cell_type": "code",
   "execution_count": 26,
   "metadata": {},
   "outputs": [
    {
     "data": {
      "text/plain": [
       "[<a href=\"/author/Albert-Einstein\">(about)</a>,\n",
       " <a href=\"/author/J-K-Rowling\">(about)</a>,\n",
       " <a href=\"/author/Albert-Einstein\">(about)</a>,\n",
       " <a href=\"/author/Jane-Austen\">(about)</a>,\n",
       " <a href=\"/author/Marilyn-Monroe\">(about)</a>,\n",
       " <a href=\"/author/Albert-Einstein\">(about)</a>,\n",
       " <a href=\"/author/Andre-Gide\">(about)</a>,\n",
       " <a href=\"/author/Thomas-A-Edison\">(about)</a>,\n",
       " <a href=\"/author/Eleanor-Roosevelt\">(about)</a>,\n",
       " <a href=\"/author/Steve-Martin\">(about)</a>]"
      ]
     },
     "execution_count": 26,
     "metadata": {},
     "output_type": "execute_result"
    }
   ],
   "source": [
    "# 말한 사람 정보 추출하기\n",
    "quote_link = quote_html.select('div.quote > span > a')\n",
    "\n",
    "quote_link"
   ]
  },
  {
   "cell_type": "code",
   "execution_count": 27,
   "metadata": {},
   "outputs": [
    {
     "data": {
      "text/plain": [
       "['https://quotes.toscrape.com/author/Albert-Einstein',\n",
       " 'https://quotes.toscrape.com/author/J-K-Rowling',\n",
       " 'https://quotes.toscrape.com/author/Albert-Einstein',\n",
       " 'https://quotes.toscrape.com/author/Jane-Austen',\n",
       " 'https://quotes.toscrape.com/author/Marilyn-Monroe',\n",
       " 'https://quotes.toscrape.com/author/Albert-Einstein',\n",
       " 'https://quotes.toscrape.com/author/Andre-Gide',\n",
       " 'https://quotes.toscrape.com/author/Thomas-A-Edison',\n",
       " 'https://quotes.toscrape.com/author/Eleanor-Roosevelt',\n",
       " 'https://quotes.toscrape.com/author/Steve-Martin']"
      ]
     },
     "execution_count": 27,
     "metadata": {},
     "output_type": "execute_result"
    }
   ],
   "source": [
    "# quote_link[0]['href'] - 속성 값 정보 추출\n",
    "\n",
    "['https://quotes.toscrape.com' + i['href'] for i in quote_link]"
   ]
  },
  {
   "cell_type": "markdown",
   "metadata": {},
   "source": [
    "---"
   ]
  },
  {
   "cell_type": "markdown",
   "metadata": {},
   "source": [
    "## 8.2.1.3"
   ]
  },
  {
   "cell_type": "code",
   "execution_count": 28,
   "metadata": {},
   "outputs": [],
   "source": [
    "# 웹사이트의 모든 페이지를 크롤링하는 예제\n",
    "\n",
    "import requests as rq\n",
    "from bs4 import BeautifulSoup\n",
    "import time\n",
    "\n",
    "text_list = []\n",
    "author_list = []\n",
    "infor_list = []\n",
    "\n",
    "for i in range(1, 100):\n",
    "    url = f'https://quotes.toscrape.com/page/{i}/'\n",
    "    quote = rq.get(url)\n",
    "    quote_html = BeautifulSoup(quote.content, 'html.parser')\n",
    "    \n",
    "    quote_text = quote_html.select('div.quote > span.text')\n",
    "    quote_text_list = [i.text for i in quote_text]\n",
    "    \n",
    "    quote_author = quote_html.select('div.quote > span > small.author')\n",
    "    quote_author_list = [i.text for i in quote_author]\n",
    "    \n",
    "    quote_link = quote_html.select('div.quote > span > a')\n",
    "    quote_link_list = ['https://quotes.toscrape.com' + i['href'] for i in quote_link]\n",
    "    \n",
    "    if len(quote_text_list) > 0:\n",
    "        text_list.extend(quote_text_list)\n",
    "        author_list.extend(quote_author_list)\n",
    "        infor_list.extend(quote_link_list)\n",
    "        time.sleep(1)\n",
    "        \n",
    "    else:\n",
    "        break"
   ]
  },
  {
   "cell_type": "code",
   "execution_count": 30,
   "metadata": {},
   "outputs": [
    {
     "data": {
      "text/html": [
       "<div>\n",
       "<style scoped>\n",
       "    .dataframe tbody tr th:only-of-type {\n",
       "        vertical-align: middle;\n",
       "    }\n",
       "\n",
       "    .dataframe tbody tr th {\n",
       "        vertical-align: top;\n",
       "    }\n",
       "\n",
       "    .dataframe thead th {\n",
       "        text-align: right;\n",
       "    }\n",
       "</style>\n",
       "<table border=\"1\" class=\"dataframe\">\n",
       "  <thead>\n",
       "    <tr style=\"text-align: right;\">\n",
       "      <th></th>\n",
       "      <th>text</th>\n",
       "      <th>author</th>\n",
       "      <th>infor</th>\n",
       "    </tr>\n",
       "  </thead>\n",
       "  <tbody>\n",
       "    <tr>\n",
       "      <th>0</th>\n",
       "      <td>“The world as we have created it is a process ...</td>\n",
       "      <td>Albert Einstein</td>\n",
       "      <td>https://quotes.toscrape.com/author/Albert-Eins...</td>\n",
       "    </tr>\n",
       "    <tr>\n",
       "      <th>1</th>\n",
       "      <td>“It is our choices, Harry, that show what we t...</td>\n",
       "      <td>J.K. Rowling</td>\n",
       "      <td>https://quotes.toscrape.com/author/J-K-Rowling</td>\n",
       "    </tr>\n",
       "    <tr>\n",
       "      <th>2</th>\n",
       "      <td>“There are only two ways to live your life. On...</td>\n",
       "      <td>Albert Einstein</td>\n",
       "      <td>https://quotes.toscrape.com/author/Albert-Eins...</td>\n",
       "    </tr>\n",
       "    <tr>\n",
       "      <th>3</th>\n",
       "      <td>“The person, be it gentleman or lady, who has ...</td>\n",
       "      <td>Jane Austen</td>\n",
       "      <td>https://quotes.toscrape.com/author/Jane-Austen</td>\n",
       "    </tr>\n",
       "    <tr>\n",
       "      <th>4</th>\n",
       "      <td>“Imperfection is beauty, madness is genius and...</td>\n",
       "      <td>Marilyn Monroe</td>\n",
       "      <td>https://quotes.toscrape.com/author/Marilyn-Monroe</td>\n",
       "    </tr>\n",
       "    <tr>\n",
       "      <th>...</th>\n",
       "      <td>...</td>\n",
       "      <td>...</td>\n",
       "      <td>...</td>\n",
       "    </tr>\n",
       "    <tr>\n",
       "      <th>95</th>\n",
       "      <td>“You never really understand a person until yo...</td>\n",
       "      <td>Harper Lee</td>\n",
       "      <td>https://quotes.toscrape.com/author/Harper-Lee</td>\n",
       "    </tr>\n",
       "    <tr>\n",
       "      <th>96</th>\n",
       "      <td>“You have to write the book that wants to be w...</td>\n",
       "      <td>Madeleine L'Engle</td>\n",
       "      <td>https://quotes.toscrape.com/author/Madeleine-L...</td>\n",
       "    </tr>\n",
       "    <tr>\n",
       "      <th>97</th>\n",
       "      <td>“Never tell the truth to people who are not wo...</td>\n",
       "      <td>Mark Twain</td>\n",
       "      <td>https://quotes.toscrape.com/author/Mark-Twain</td>\n",
       "    </tr>\n",
       "    <tr>\n",
       "      <th>98</th>\n",
       "      <td>“A person's a person, no matter how small.”</td>\n",
       "      <td>Dr. Seuss</td>\n",
       "      <td>https://quotes.toscrape.com/author/Dr-Seuss</td>\n",
       "    </tr>\n",
       "    <tr>\n",
       "      <th>99</th>\n",
       "      <td>“... a mind needs books as a sword needs a whe...</td>\n",
       "      <td>George R.R. Martin</td>\n",
       "      <td>https://quotes.toscrape.com/author/George-R-R-...</td>\n",
       "    </tr>\n",
       "  </tbody>\n",
       "</table>\n",
       "<p>100 rows × 3 columns</p>\n",
       "</div>"
      ],
      "text/plain": [
       "                                                 text              author  \\\n",
       "0   “The world as we have created it is a process ...     Albert Einstein   \n",
       "1   “It is our choices, Harry, that show what we t...        J.K. Rowling   \n",
       "2   “There are only two ways to live your life. On...     Albert Einstein   \n",
       "3   “The person, be it gentleman or lady, who has ...         Jane Austen   \n",
       "4   “Imperfection is beauty, madness is genius and...      Marilyn Monroe   \n",
       "..                                                ...                 ...   \n",
       "95  “You never really understand a person until yo...          Harper Lee   \n",
       "96  “You have to write the book that wants to be w...   Madeleine L'Engle   \n",
       "97  “Never tell the truth to people who are not wo...          Mark Twain   \n",
       "98        “A person's a person, no matter how small.”           Dr. Seuss   \n",
       "99  “... a mind needs books as a sword needs a whe...  George R.R. Martin   \n",
       "\n",
       "                                                infor  \n",
       "0   https://quotes.toscrape.com/author/Albert-Eins...  \n",
       "1      https://quotes.toscrape.com/author/J-K-Rowling  \n",
       "2   https://quotes.toscrape.com/author/Albert-Eins...  \n",
       "3      https://quotes.toscrape.com/author/Jane-Austen  \n",
       "4   https://quotes.toscrape.com/author/Marilyn-Monroe  \n",
       "..                                                ...  \n",
       "95      https://quotes.toscrape.com/author/Harper-Lee  \n",
       "96  https://quotes.toscrape.com/author/Madeleine-L...  \n",
       "97      https://quotes.toscrape.com/author/Mark-Twain  \n",
       "98        https://quotes.toscrape.com/author/Dr-Seuss  \n",
       "99  https://quotes.toscrape.com/author/George-R-R-...  \n",
       "\n",
       "[100 rows x 3 columns]"
      ]
     },
     "execution_count": 30,
     "metadata": {},
     "output_type": "execute_result"
    }
   ],
   "source": [
    "import pandas as pd\n",
    "\n",
    "quote_df = pd.DataFrame({'text': text_list, 'author': author_list, 'infor': infor_list})\n",
    "quote_df"
   ]
  },
  {
   "cell_type": "markdown",
   "metadata": {},
   "source": [
    "---"
   ]
  },
  {
   "cell_type": "markdown",
   "metadata": {},
   "source": [
    "## 8.2.2\n"
   ]
  },
  {
   "cell_type": "code",
   "execution_count": null,
   "metadata": {},
   "outputs": [
    {
     "data": {
      "text/plain": [
       "[<a href=\"/news/news_read.naver?article_id=0005423701&amp;office_id=009&amp;mode=LSS2D&amp;type=0§ion_id=101§ion_id2=258§ion_id3=&amp;date=20250104&amp;page=1\" title=\"“그래도 10조는 넘어설 줄 알았는데”…삼성전자 4분기 영업익 얼마길래\">“그래도 10조는 넘어설 줄 알았는데”…삼성전자 4분기 영업익 얼마길래</a>,\n",
       " <a href=\"/news/news_read.naver?article_id=0000032131&amp;office_id=648&amp;mode=LSS2D&amp;type=0§ion_id=101§ion_id2=258§ion_id3=&amp;date=20250104&amp;page=1\" title=\"삼성 스마트싱스, 작년 2천만명이 썼다\">삼성 스마트싱스, 작년 2천만명이 썼다</a>,\n",
       " <a href=\"/news/news_read.naver?article_id=0005077889&amp;office_id=015&amp;mode=LSS2D&amp;type=0§ion_id=101§ion_id2=258§ion_id3=&amp;date=20250104&amp;page=1\" title=\"KB운용 김영성 대표, 임기 마지막해 '군살 빼기' 나선 이유 [돈앤톡]\">KB운용 김영성 대표, 임기 마지막해 '군살 빼기' 나선 이유 [돈앤톡]</a>]"
      ]
     },
     "execution_count": 32,
     "metadata": {},
     "output_type": "execute_result"
    }
   ],
   "source": [
    "# 기사 제목 뽑기 예제\n",
    "import requests as rq\n",
    "from bs4 import BeautifulSoup\n",
    "\n",
    "url = 'https://finance.naver.com/news/news_list.nhn?mode=LSS2D&section_id=101&section_id2=258'\n",
    "data = rq.get(url)\n",
    "html = BeautifulSoup(data.content, 'html.parser')\n",
    "html_select = html.select('dl > dd.articleSubject > a')\n",
    "\n",
    "html_select[0:3]"
   ]
  },
  {
   "cell_type": "code",
   "execution_count": 33,
   "metadata": {},
   "outputs": [
    {
     "data": {
      "text/plain": [
       "['“그래도 10조는 넘어설 줄 알았는데”…삼성전자 4분기 영업익 얼마길래',\n",
       " '삼성 스마트싱스, 작년 2천만명이 썼다',\n",
       " \"KB운용 김영성 대표, 임기 마지막해 '군살 빼기' 나선 이유 [돈앤톡]\",\n",
       " '삼성SDS \"국내 최고 클라우드 사업자로 공인\"',\n",
       " \"2025년 기업 신년사의 공통 주제는 '위기'\",\n",
       " '\"환율 오를대로 올랐다\"…국민연금, 80조 전략적 환헤지 임박',\n",
       " '金투자 다 같은 ‘金’이 아니었다…투자 방법 따라 수익률 2배?[투자360]',\n",
       " '바이든, 일본제철의 US스틸 인수 불허…日정부 \"유감\"',\n",
       " '[뉴욕 증시] 3대 지수, 동반 강세 마감…저가 매수+美제조업 지수 개선',\n",
       " '가계대출 증가액 1조 아래로 꺾였다…새해 대출 문턱 내려간다',\n",
       " '반등하는 코스피…외국인 돌아오나',\n",
       " '\"올해도 두 배 뛴다고?\"…트럼프 취임에 부푸는 비트코인 [투자의 재발견]',\n",
       " '회계 부정 의혹 슈퍼마이크로 간만에 11% 폭등',\n",
       " '모처럼 웃은 코스피…삼성전자 실적에 쏠린 눈[다음 주 증시 전망]',\n",
       " '[청기홍기]높은 운임에 장기계약 체결한 현대글로비스…목표가↑',\n",
       " '[IPO챗] LG CNS 등 7개사 신규 수요예측 돌입…공모주 투심 풀릴까',\n",
       " '비트코인, 지금이 제일 싼 가격?… 9만8000달러 재돌파',\n",
       " '[다음주 경제] 경상수지, 7개월 연속 흑자 이어졌나',\n",
       " '삼성전자까지 뛰어들더니…이 종목, 이틀새 47% 뛰었다 [종목+]',\n",
       " '비트코인 10만달러 재돌파 임박?… 최고가의 91%까지 회복']"
      ]
     },
     "execution_count": 33,
     "metadata": {},
     "output_type": "execute_result"
    }
   ],
   "source": [
    "# title 속성에 있는 내용 뽑아내기\n",
    "[i['title'] for i in html_select]"
   ]
  },
  {
   "cell_type": "markdown",
   "metadata": {},
   "source": [
    "---"
   ]
  },
  {
   "cell_type": "markdown",
   "metadata": {},
   "source": [
    "## 8.2.3"
   ]
  },
  {
   "cell_type": "code",
   "execution_count": 37,
   "metadata": {},
   "outputs": [
    {
     "data": {
      "text/html": [
       "<div>\n",
       "<style scoped>\n",
       "    .dataframe tbody tr th:only-of-type {\n",
       "        vertical-align: middle;\n",
       "    }\n",
       "\n",
       "    .dataframe tbody tr th {\n",
       "        vertical-align: top;\n",
       "    }\n",
       "\n",
       "    .dataframe thead tr th {\n",
       "        text-align: left;\n",
       "    }\n",
       "</style>\n",
       "<table border=\"1\" class=\"dataframe\">\n",
       "  <thead>\n",
       "    <tr>\n",
       "      <th></th>\n",
       "      <th>Country / Territory</th>\n",
       "      <th colspan=\"2\" halign=\"left\">Total market cap</th>\n",
       "      <th>Number of domestic companies listed[2]</th>\n",
       "      <th>Year</th>\n",
       "    </tr>\n",
       "    <tr>\n",
       "      <th></th>\n",
       "      <th>Country / Territory</th>\n",
       "      <th>(in millions of US$)[3]</th>\n",
       "      <th>(as a % of GDP)[4]</th>\n",
       "      <th>Number of domestic companies listed[2]</th>\n",
       "      <th>Year</th>\n",
       "    </tr>\n",
       "  </thead>\n",
       "  <tbody>\n",
       "    <tr>\n",
       "      <th>0</th>\n",
       "      <td>United States</td>\n",
       "      <td>54000000</td>\n",
       "      <td>194.5</td>\n",
       "      <td>4642</td>\n",
       "      <td>2024</td>\n",
       "    </tr>\n",
       "    <tr>\n",
       "      <th>1</th>\n",
       "      <td>China</td>\n",
       "      <td>12,009,242[5]</td>\n",
       "      <td>65.1</td>\n",
       "      <td>5,363[6]</td>\n",
       "      <td>2024</td>\n",
       "    </tr>\n",
       "    <tr>\n",
       "      <th>2</th>\n",
       "      <td>Japan</td>\n",
       "      <td>6,245,880[7]</td>\n",
       "      <td>146.2[8]</td>\n",
       "      <td>3865</td>\n",
       "      <td>2024</td>\n",
       "    </tr>\n",
       "    <tr>\n",
       "      <th>3</th>\n",
       "      <td>India</td>\n",
       "      <td>5,663,221[9]</td>\n",
       "      <td>140.1</td>\n",
       "      <td>5,451[10]</td>\n",
       "      <td>2024</td>\n",
       "    </tr>\n",
       "    <tr>\n",
       "      <th>4</th>\n",
       "      <td>Hong Kong</td>\n",
       "      <td>4,746,241[11]</td>\n",
       "      <td>1262.6</td>\n",
       "      <td>2414</td>\n",
       "      <td>2024</td>\n",
       "    </tr>\n",
       "  </tbody>\n",
       "</table>\n",
       "</div>"
      ],
      "text/plain": [
       "  Country / Territory        Total market cap                     \\\n",
       "  Country / Territory (in millions of US$)[3] (as a % of GDP)[4]   \n",
       "0       United States                54000000              194.5   \n",
       "1               China           12,009,242[5]               65.1   \n",
       "2               Japan            6,245,880[7]           146.2[8]   \n",
       "3               India            5,663,221[9]              140.1   \n",
       "4           Hong Kong           4,746,241[11]             1262.6   \n",
       "\n",
       "  Number of domestic companies listed[2]  Year  \n",
       "  Number of domestic companies listed[2]  Year  \n",
       "0                                   4642  2024  \n",
       "1                               5,363[6]  2024  \n",
       "2                                   3865  2024  \n",
       "3                              5,451[10]  2024  \n",
       "4                                   2414  2024  "
      ]
     },
     "execution_count": 37,
     "metadata": {},
     "output_type": "execute_result"
    }
   ],
   "source": [
    "# 크롤링을 원하는 데이터가 표 형태로 되어있을 경우\n",
    "\n",
    "import pandas as pd\n",
    "\n",
    "url = 'https://en.wikipedia.org/wiki/List_of_countries_by_stock_market_capitalization'\n",
    "tbl = pd.read_html(url)\n",
    "\n",
    "tbl[0].head()"
   ]
  },
  {
   "cell_type": "markdown",
   "metadata": {},
   "source": [
    "---"
   ]
  },
  {
   "cell_type": "markdown",
   "metadata": {},
   "source": [
    "## 8.2.4"
   ]
  },
  {
   "cell_type": "code",
   "execution_count": null,
   "metadata": {},
   "outputs": [
    {
     "name": "stdout",
     "output_type": "stream",
     "text": [
      "\n",
      "<section class=\"scrarea type-00\">\n",
      "<table class=\"list type-00 mt10\" summary=\"시간, 회사명, 공시제목, 제출인, 차트/주가\">\n",
      "<caption>목록</caption>\n",
      "<colgroup>\n",
      "<col width=\"9%\"/>\n",
      "<col width=\"22%\"/>\n",
      "<col width=\"*\"/>\n",
      "<col width=\"16%\"/>\n",
      "<col width=\"9%\"/>\n",
      "</colgroup>\n",
      "<thead>\n",
      "<tr class=\"first active\" id=\"title-contents\">\n",
      "</tr>\n",
      "</thead>\n",
      "<tbody>\n",
      "<tr class=\"first\" id=\"parkman\">\n",
      "<td class=\"first txc\">18:25</td>\n",
      "<td><img alt=\"유가증권\" class=\"vmiddle legend\" src=\"/images/common/icn_t_yu.gif\"/> <a href=\"#companysum\" id=\"companysum\" onclick=\"companysummary_open('00392'); return false;\" title=\"남양유업\"> 남양유업</a> </td>\n",
      "<td><a href=\"#viewer\" onclick=\"openDisclsViewer('20250103000761','')\" title=\"횡령ㆍ배임혐의발생\"><font color=\"#FF8040\">[정정]</font>횡령ㆍ배임혐의발생</a></td>\n",
      "<td>남양유업</td>\n",
      "<td class=\"txc\">\n",
      "<a class=\"btn ico chart-00\" href=\"#\" onclick=\"openDisclsChart('00392');return false;\" title=\"공시차트\"><span>공시차트</span></a>\n",
      "<a class=\"btn ico chart-01\" href=\"#\" onclick=\"fnPopStockPrices('00392');return false;\" title=\"주가차트\"><span>주가차트</span></a>\n",
      "</td>\n",
      "</tr>\n",
      "<tr id=\"parkman\">\n",
      "<td class=\"first txc\">18:10</td>\n",
      "<td></td>\n",
      "<td><a href=\"#viewer\" onclick=\"openDisclsViewer('20250103000775','')\" title=\"일일 회전율 상위 20종목-ELW제외(유가증권시장)\">일일 회전율 상위 20종목-ELW제외(유가증권시장)</a></td>\n",
      "<td>유가증권시장본부</td>\n",
      "<td class=\"txc\">\n",
      "</td>\n",
      "</tr>\n",
      "<tr id=\"parkman\">\n",
      "<td class=\"first txc\">18:10</td>\n",
      "<td></td>\n",
      "<td><a href=\"#viewer\" onclick=\"openDisclsViewer('20250103000777','')\" title=\"일일 회전율 상위 20종목-ELW포함(유가증권시장)\">일일 회전율 상위 20종목-ELW포함(유가증권시장)</a></td>\n",
      "<td>유가증권시장본부</td>\n",
      "<td class=\"txc\">\n",
      "</td>\n",
      "</tr>\n",
      "<tr id=\"parkman\">\n",
      "<td class=\"first txc\">18:10</td>\n",
      "<td></td>\n",
      "<td><a href=\"#viewer\" onclick=\"openDisclsViewer('20250103000776','')\" title=\"대량매매내역(유가증권시장)\">대량매매내역(유가증권시장)</a></td>\n",
      "<td>유가증권시장본부</td>\n",
      "<td class=\"txc\">\n",
      "</td>\n",
      "</tr>\n",
      "<tr id=\"parkman\">\n",
      "<td class=\"first txc\">18:10</td>\n",
      "<td></td>\n",
      "<td><a href=\"#viewer\" onclick=\"openDisclsViewer('20250103000783','')\" title=\"자기주식매매 신청내역(유가증권시장)\">자기주식매매 신청내역(유가증권시장)</a></td>\n",
      "<td>유가증권시장본부</td>\n",
      "<td class=\"txc\">\n",
      "</td>\n",
      "</tr>\n",
      "<tr id=\"parkman\">\n",
      "<td class=\"first txc\">18:10</td>\n",
      "<td></td>\n",
      "<td><a href=\"#viewer\" onclick=\"openDisclsViewer('20250103000771','')\" title=\"자기주식매매 체결내역(유가증권시장)\">자기주식매매 체결내역(유가증권시장)</a></td>\n",
      "<td>유가증권시장본부</td>\n",
      "<td class=\"txc\">\n",
      "</td>\n",
      "</tr>\n",
      "<tr id=\"parkman\">\n",
      "<td class=\"first txc\">18:07</td>\n",
      "<td><img alt=\"유가증권\" class=\"vmiddle legend\" src=\"/images/common/icn_t_yu.gif\"/> <a href=\"#companysum\" id=\"companysum\" onclick=\"companysummary_open('37550'); return false;\" title=\"DL이앤씨\"> DL이앤씨</a> <img alt=\"KOSPI200\" class=\"vmiddle legend\" src=\"/images/common/icn_t_k200.gif\"/> <img alt=\"KRX300\" class=\"vmiddle legend\" src=\"/images/common/icn_t_x300.gif\"/> </td>\n",
      "<td><a href=\"#viewer\" onclick=\"openDisclsViewer('20250103000752','')\" title=\"단일판매ㆍ공급계약체결\"><font color=\"#FF8040\">[정정]</font>단일판매ㆍ공급계약체결</a></td>\n",
      "<td>디엘이앤씨</td>\n",
      "<td class=\"txc\">\n",
      "<a class=\"btn ico chart-00\" href=\"#\" onclick=\"openDisclsChart('37550');return false;\" title=\"공시차트\"><span>공시차트</span></a>\n",
      "<a class=\"btn ico chart-01\" href=\"#\" onclick=\"fnPopStockPrices('37550');return false;\" title=\"주가차트\"><span>주가차트</span></a>\n",
      "</td>\n",
      "</tr>\n",
      "<tr id=\"parkman\">\n",
      "<td class=\"first txc\">18:07</td>\n",
      "<td><img alt=\"유가증권\" class=\"vmiddle legend\" src=\"/images/common/icn_t_yu.gif\"/> <a href=\"#companysum\" id=\"companysum\" onclick=\"companysummary_open('00596'); return false;\" title=\"동부건설\"> 동부건설</a> </td>\n",
      "<td><a href=\"#viewer\" onclick=\"openDisclsViewer('20250103000738','')\" title=\"단일판매ㆍ공급계약체결\"><font color=\"#FF8040\">[정정]</font>단일판매ㆍ공급계약체결</a></td>\n",
      "<td>동부건설</td>\n",
      "<td class=\"txc\">\n",
      "<a class=\"btn ico chart-00\" href=\"#\" onclick=\"openDisclsChart('00596');return false;\" title=\"공시차트\"><span>공시차트</span></a>\n",
      "<a class=\"btn ico chart-01\" href=\"#\" onclick=\"fnPopStockPrices('00596');return false;\" title=\"주가차트\"><span>주가차트</span></a>\n",
      "</td>\n",
      "</tr>\n",
      "<tr id=\"parkman\">\n",
      "<td class=\"first txc\">18:07</td>\n",
      "<td></td>\n",
      "<td><a href=\"#viewer\" onclick=\"openDisclsViewer('20250103000784','')\" title=\"자기주식매매신청내역(코스닥시장)\">자기주식매매신청내역(코스닥시장)</a></td>\n",
      "<td>코스닥시장본부</td>\n",
      "<td class=\"txc\">\n",
      "</td>\n",
      "</tr>\n",
      "<tr id=\"parkman\">\n",
      "<td class=\"first txc\">18:07</td>\n",
      "<td></td>\n",
      "<td><a href=\"#viewer\" onclick=\"openDisclsViewer('20250103000780','')\" title=\"직전1개월 일평균대비 거래량 증가율 상위 10종목(코스닥시장)\">직전1개월 일평균대비 거래량 증가율 상위 10종목(코스닥시장)</a></td>\n",
      "<td>코스닥시장본부</td>\n",
      "<td class=\"txc\">\n",
      "</td>\n",
      "</tr>\n",
      "<tr id=\"parkman\">\n",
      "<td class=\"first txc\">18:06</td>\n",
      "<td></td>\n",
      "<td><a href=\"#viewer\" onclick=\"openDisclsViewer('20250103000779','')\" title=\"일중 변동성 상위 10종목(코스닥시장)\">일중 변동성 상위 10종목(코스닥시장)</a></td>\n",
      "<td>코스닥시장본부</td>\n",
      "<td class=\"txc\">\n",
      "</td>\n",
      "</tr>\n",
      "<tr id=\"parkman\">\n",
      "<td class=\"first txc\">18:06</td>\n",
      "<td></td>\n",
      "<td><a href=\"#viewer\" onclick=\"openDisclsViewer('20250103000778','')\" title=\"일일회전율상위20종목(코스닥시장)\">일일회전율상위20종목(코스닥시장)</a></td>\n",
      "<td>코스닥시장본부</td>\n",
      "<td class=\"txc\">\n",
      "</td>\n",
      "</tr>\n",
      "<tr id=\"parkman\">\n",
      "<td class=\"first txc\">18:06</td>\n",
      "<td></td>\n",
      "<td><a href=\"#viewer\" onclick=\"openDisclsViewer('20250103000782','')\" title=\"대량매매내역(코스닥시장)\">대량매매내역(코스닥시장)</a></td>\n",
      "<td>코스닥시장본부</td>\n",
      "<td class=\"txc\">\n",
      "</td>\n",
      "</tr>\n",
      "<tr id=\"parkman\">\n",
      "<td class=\"first txc\">18:06</td>\n",
      "<td></td>\n",
      "<td><a href=\"#viewer\" onclick=\"openDisclsViewer('20250103000781','')\" title=\"최근 20일중 최저(최고)가 대비 상승(하락)율 상위 10종목(코스닥시장)\">최근 20일중 최저(최고)가 대비 상승(하락)율 상위 10종목(코스닥시장)</a></td>\n",
      "<td>코스닥시장본부</td>\n",
      "<td class=\"txc\">\n",
      "</td>\n",
      "</tr>\n",
      "<tr id=\"parkman\">\n",
      "<td class=\"first txc\">18:06</td>\n",
      "<td></td>\n",
      "<td><a href=\"#viewer\" onclick=\"openDisclsViewer('20250103000772','')\" title=\"자기주식매매체결내역(코스닥시장)\">자기주식매매체결내역(코스닥시장)</a></td>\n",
      "<td>코스닥시장본부</td>\n",
      "<td class=\"txc\">\n",
      "</td>\n",
      "</tr>\n",
      "</tbody>\n",
      "</table>\n",
      "</section>\n",
      "<!-- 페이징 START -->\n",
      "<section class=\"paging-group\">\n",
      "<div class=\"paging type-00\"><a class=\"pprev\" href=\"#prevPage10\" onclick=\"return false;\"><span>이전10개 페이지</span></a><a class=\"prev\" href=\"#prevPage\" onclick=\"return false;\"><span>이전 페이지</span></a>\n",
      "<a class=\"active\" href=\"#page_link_1\" onclick=\"return false;\">1</a><a href=\"#page_link_2\" onclick=\"fnPageGo('2');return false;\">2</a><a href=\"#page_link_3\" onclick=\"fnPageGo('3');return false;\">3</a><a href=\"#page_link_4\" onclick=\"fnPageGo('4');return false;\">4</a><a href=\"#page_link_5\" onclick=\"fnPageGo('5');return false;\">5</a><a href=\"#page_link_6\" onclick=\"fnPageGo('6');return false;\">6</a><a href=\"#page_link_7\" onclick=\"fnPageGo('7');return false;\">7</a><a href=\"#page_link_8\" onclick=\"fnPageGo('8');return false;\">8</a><a href=\"#page_link_9\" onclick=\"fnPageGo('9');return false;\">9</a><a href=\"#page_link_10\" onclick=\"fnPageGo('10');return false;\">10</a>\n",
      "<a class=\"next\" href=\"#nextPage\" onclick=\"fnPageGo('2');return false;\"><span>다음 페이지</span></a><a class=\"nnext\" href=\"#nextPage10\" onclick=\"fnPageGo('11');return false;\"><span>다음10개 페이지</span></a></div><div class=\"info type-00\">\n",
      "전체 <em>494</em>건 : <strong>1</strong>/33   \n",
      "<select id=\"currentPageSize\" name=\"currentPageSize\">\n",
      "<option selected=\"selected\" value=\"15\">15건</option>\n",
      "<option value=\"30\">30건</option>\n",
      "<option value=\"50\">50건</option>\n",
      "<option value=\"100\">100건</option>\n",
      "</select>  <a class=\"btn-sprite btn-go vmiddle\" href=\"#\" onclick=\"fnSearch1();return false;\" title=\"GO\"><span>GO</span></a>\n",
      "</div>\n",
      "</section>\n",
      "<!-- 페이징 END -->\n",
      "<script type=\"text/JavaScript\">\n",
      "$(document).ready(function(){\n",
      "\tvar svrGubun = \"real1\";\n",
      "\tif( svrGubun.indexOf(\"dr\") >= 0 ){\n",
      "\t\tfn_InitTitle(\"시간,회사명,공시제목,제출인\", \"true,true,true,true\");\n",
      "\t} else {\n",
      "\t\tfn_InitTitle(\"시간,회사명,공시제목,제출인,차트/주가\", \"true,true,true,true,false\");\n",
      "\t}\n",
      "\n",
      "\t$(\"input[name='segment']:radio\").change(function(){\n",
      "\t\tconsole.log(this.value);\n",
      "\t\t$(\"#searchForm > #kosdaqSegment\").val(this.value);\n",
      "\t\tfnSearch();\n",
      "\t});\n",
      "});\n",
      "</script>\n"
     ]
    }
   ],
   "source": [
    "# 한국거래소 상장공시시스템에서 POST 요청을 보내 데이터 뽑아내기\n",
    "\n",
    "import requests as rq\n",
    "from bs4 import BeautifulSoup\n",
    "import pandas as pd\n",
    "\n",
    "url = 'https://kind.krx.co.kr/disclosure/todaydisclosure.do'\n",
    "payload = {\n",
    "   'method': 'searchTodayDisclosureSub',\n",
    "   'currentPageSize': '15',\n",
    "   'pageIndex': '1',\n",
    "   'orderMode': '0',\n",
    "   'orderStat':'D',\n",
    "   'forward': 'todaydisclosure_sub',\n",
    "   'chose': 'S',\n",
    "   'todayFlag': 'N',\n",
    "   'selDate': '2025-01-03'\n",
    "}\n",
    "\n",
    "data = rq.post(url, data=payload)       # post request\n",
    "html = BeautifulSoup(data.content, 'html.parser')\n",
    "\n",
    "# print(html)"
   ]
  },
  {
   "cell_type": "code",
   "execution_count": 41,
   "metadata": {},
   "outputs": [
    {
     "data": {
      "text/plain": [
       "'<section class=\"scrarea type-00\">\\n <table class=\"list type-00 mt10\" summary=\"시간, 회사명, 공시제목, 제출인, 차트/주가\">\\n  <caption>\\n   목록\\n  </caption>\\n  <colgroup>\\n   <col width=\"9%\"/>\\n   <col width=\"22%\"/>\\n   <col width=\"*\"/>\\n   <col width=\"16%\"/>\\n   <col width=\"9%\"/>\\n  </colgroup>\\n  <thead>\\n   <tr class=\"first active\" id=\"title-contents\">\\n   </tr>\\n  </thead>\\n  <tbody>\\n   <tr class=\"first\" id=\"parkman\">\\n    <td class=\"first txc\">\\n     18:25\\n    </td>\\n    <td>\\n     <img alt=\"유가증권\" class=\"vmiddle legend\" src=\"/images/common/icn_t_yu.gif\"/>\\n     <a href=\"#companysum\" id=\"companysum\" onclick=\"companysummary_open(\\'00392\\'); return false;\" title=\"남양유업\">\\n      남양유업\\n     </a>\\n    </td>\\n    <td>\\n     <a href=\"#viewer\" onclick=\"openDisclsViewer(\\'20250103000761\\',\\'\\')\" title=\"횡령ㆍ배임혐의발생\">\\n      <font color=\"#FF8040\">\\n       [정정]\\n      </font>\\n      횡령ㆍ배임혐의발생\\n     </a>\\n    </td>\\n    <td>\\n     남양유업\\n    </td>\\n    <td class=\"txc\">\\n     <a class=\"btn ico chart-00\" href=\"#\" onclick=\"openDisclsChart(\\'00392\\');return false;\" title=\"공시차트\">\\n      <span>\\n       공시차트\\n      </span>\\n     </a>\\n     <a class=\"btn ico chart-01\" href=\"#\" onclick=\"fnPopStockPrices(\\'00392\\');return false;\" title=\"주가차트\">\\n      <span>\\n       주가차트\\n      </span>\\n     </a>\\n    </td>\\n   </tr>\\n   <tr id=\"parkman\">\\n    <td class=\"first txc\">\\n     18:10\\n    </td>\\n    <td>\\n    </td>\\n    <td>\\n     <a href=\"#viewer\" onclick=\"openDisclsViewer(\\'20250103000775\\',\\'\\')\" title=\"일일 회전율 상위 20종목-ELW제외(유가증권시장)\">\\n      일일 회전율 상위 20종목-ELW제외(유가증권시장)\\n     </a>\\n    </td>\\n    <td>\\n     유가증권시장본부\\n    </td>\\n    <td class=\"txc\">\\n    </td>\\n   </tr>\\n   <tr id=\"parkman\">\\n    <td class=\"first txc\">\\n     18:10\\n    </td>\\n    <td>\\n    </td>\\n    <td>\\n     <a href=\"#viewer\" onclick=\"openDisclsViewer(\\'20250103000777\\',\\'\\')\" title=\"일일 회전율 상위 20종목-ELW포함(유가증권시장)\">\\n      일일 회전율 상위 20종목-ELW포함(유가증권시장)\\n     </a>\\n    </td>\\n    <td>\\n     유가증권시장본부\\n    </td>\\n    <td class=\"txc\">\\n    </td>\\n   </tr>\\n   <tr id=\"parkman\">\\n    <td class=\"first txc\">\\n     18:10\\n    </td>\\n    <td>\\n    </td>\\n    <td>\\n     <a href=\"#viewer\" onclick=\"openDisclsViewer(\\'20250103000776\\',\\'\\')\" title=\"대량매매내역(유가증권시장)\">\\n      대량매매내역(유가증권시장)\\n     </a>\\n    </td>\\n    <td>\\n     유가증권시장본부\\n    </td>\\n    <td class=\"txc\">\\n    </td>\\n   </tr>\\n   <tr id=\"parkman\">\\n    <td class=\"first txc\">\\n     18:10\\n    </td>\\n    <td>\\n    </td>\\n    <td>\\n     <a href=\"#viewer\" onclick=\"openDisclsViewer(\\'20250103000783\\',\\'\\')\" title=\"자기주식매매 신청내역(유가증권시장)\">\\n      자기주식매매 신청내역(유가증권시장)\\n     </a>\\n    </td>\\n    <td>\\n     유가증권시장본부\\n    </td>\\n    <td class=\"txc\">\\n    </td>\\n   </tr>\\n   <tr id=\"parkman\">\\n    <td class=\"first txc\">\\n     18:10\\n    </td>\\n    <td>\\n    </td>\\n    <td>\\n     <a href=\"#viewer\" onclick=\"openDisclsViewer(\\'20250103000771\\',\\'\\')\" title=\"자기주식매매 체결내역(유가증권시장)\">\\n      자기주식매매 체결내역(유가증권시장)\\n     </a>\\n    </td>\\n    <td>\\n     유가증권시장본부\\n    </td>\\n    <td class=\"txc\">\\n    </td>\\n   </tr>\\n   <tr id=\"parkman\">\\n    <td class=\"first txc\">\\n     18:07\\n    </td>\\n    <td>\\n     <img alt=\"유가증권\" class=\"vmiddle legend\" src=\"/images/common/icn_t_yu.gif\"/>\\n     <a href=\"#companysum\" id=\"companysum\" onclick=\"companysummary_open(\\'37550\\'); return false;\" title=\"DL이앤씨\">\\n      DL이앤씨\\n     </a>\\n     <img alt=\"KOSPI200\" class=\"vmiddle legend\" src=\"/images/common/icn_t_k200.gif\"/>\\n     <img alt=\"KRX300\" class=\"vmiddle legend\" src=\"/images/common/icn_t_x300.gif\"/>\\n    </td>\\n    <td>\\n     <a href=\"#viewer\" onclick=\"openDisclsViewer(\\'20250103000752\\',\\'\\')\" title=\"단일판매ㆍ공급계약체결\">\\n      <font color=\"#FF8040\">\\n       [정정]\\n      </font>\\n      단일판매ㆍ공급계약체결\\n     </a>\\n    </td>\\n    <td>\\n     디엘이앤씨\\n    </td>\\n    <td class=\"txc\">\\n     <a class=\"btn ico chart-00\" href=\"#\" onclick=\"openDisclsChart(\\'37550\\');return false;\" title=\"공시차트\">\\n      <span>\\n       공시차트\\n      </span>\\n     </a>\\n     <a class=\"btn ico chart-01\" href=\"#\" onclick=\"fnPopStockPrices(\\'37550\\');return false;\" title=\"주가차트\">\\n      <span>\\n       주가차트\\n      </span>\\n     </a>\\n    </td>\\n   </tr>\\n   <tr id=\"parkman\">\\n    <td class=\"first txc\">\\n     18:07\\n    </td>\\n    <td>\\n     <img alt=\"유가증권\" class=\"vmiddle legend\" src=\"/images/common/icn_t_yu.gif\"/>\\n     <a href=\"#companysum\" id=\"companysum\" onclick=\"companysummary_open(\\'00596\\'); return false;\" title=\"동부건설\">\\n      동부건설\\n     </a>\\n    </td>\\n    <td>\\n     <a href=\"#viewer\" onclick=\"openDisclsViewer(\\'20250103000738\\',\\'\\')\" title=\"단일판매ㆍ공급계약체결\">\\n      <font color=\"#FF8040\">\\n       [정정]\\n      </font>\\n      단일판매ㆍ공급계약체결\\n     </a>\\n    </td>\\n    <td>\\n     동부건설\\n    </td>\\n    <td class=\"txc\">\\n     <a class=\"btn ico chart-00\" href=\"#\" onclick=\"openDisclsChart(\\'00596\\');return false;\" title=\"공시차트\">\\n      <span>\\n       공시차트\\n      </span>\\n     </a>\\n     <a class=\"btn ico chart-01\" href=\"#\" onclick=\"fnPopStockPrices(\\'00596\\');return false;\" title=\"주가차트\">\\n      <span>\\n       주가차트\\n      </span>\\n     </a>\\n    </td>\\n   </tr>\\n   <tr id=\"parkman\">\\n    <td class=\"first txc\">\\n     18:07\\n    </td>\\n    <td>\\n    </td>\\n    <td>\\n     <a href=\"#viewer\" onclick=\"openDisclsViewer(\\'20250103000784\\',\\'\\')\" title=\"자기주식매매신청내역(코스닥시장)\">\\n      자기주식매매신청내역(코스닥시장)\\n     </a>\\n    </td>\\n    <td>\\n     코스닥시장본부\\n    </td>\\n    <td class=\"txc\">\\n    </td>\\n   </tr>\\n   <tr id=\"parkman\">\\n    <td class=\"first txc\">\\n     18:07\\n    </td>\\n    <td>\\n    </td>\\n    <td>\\n     <a href=\"#viewer\" onclick=\"openDisclsViewer(\\'20250103000780\\',\\'\\')\" title=\"직전1개월 일평균대비 거래량 증가율 상위 10종목(코스닥시장)\">\\n      직전1개월 일평균대비 거래량 증가율 상위 10종목(코스닥시장)\\n     </a>\\n    </td>\\n    <td>\\n     코스닥시장본부\\n    </td>\\n    <td class=\"txc\">\\n    </td>\\n   </tr>\\n   <tr id=\"parkman\">\\n    <td class=\"first txc\">\\n     18:06\\n    </td>\\n    <td>\\n    </td>\\n    <td>\\n     <a href=\"#viewer\" onclick=\"openDisclsViewer(\\'20250103000779\\',\\'\\')\" title=\"일중 변동성 상위 10종목(코스닥시장)\">\\n      일중 변동성 상위 10종목(코스닥시장)\\n     </a>\\n    </td>\\n    <td>\\n     코스닥시장본부\\n    </td>\\n    <td class=\"txc\">\\n    </td>\\n   </tr>\\n   <tr id=\"parkman\">\\n    <td class=\"first txc\">\\n     18:06\\n    </td>\\n    <td>\\n    </td>\\n    <td>\\n     <a href=\"#viewer\" onclick=\"openDisclsViewer(\\'20250103000778\\',\\'\\')\" title=\"일일회전율상위20종목(코스닥시장)\">\\n      일일회전율상위20종목(코스닥시장)\\n     </a>\\n    </td>\\n    <td>\\n     코스닥시장본부\\n    </td>\\n    <td class=\"txc\">\\n    </td>\\n   </tr>\\n   <tr id=\"parkman\">\\n    <td class=\"first txc\">\\n     18:06\\n    </td>\\n    <td>\\n    </td>\\n    <td>\\n     <a href=\"#viewer\" onclick=\"openDisclsViewer(\\'20250103000782\\',\\'\\')\" title=\"대량매매내역(코스닥시장)\">\\n      대량매매내역(코스닥시장)\\n     </a>\\n    </td>\\n    <td>\\n     코스닥시장본부\\n    </td>\\n    <td class=\"txc\">\\n    </td>\\n   </tr>\\n   <tr id=\"parkman\">\\n    <td class=\"first txc\">\\n     18:06\\n    </td>\\n    <td>\\n    </td>\\n    <td>\\n     <a href=\"#viewer\" onclick=\"openDisclsViewer(\\'20250103000781\\',\\'\\')\" title=\"최근 20일중 최저(최고)가 대비 상승(하락)율 상위 10종목(코스닥시장)\">\\n      최근 20일중 최저(최고)가 대비 상승(하락)율 상위 10종목(코스닥시장)\\n     </a>\\n    </td>\\n    <td>\\n     코스닥시장본부\\n    </td>\\n    <td class=\"txc\">\\n    </td>\\n   </tr>\\n   <tr id=\"parkman\">\\n    <td class=\"first txc\">\\n     18:06\\n    </td>\\n    <td>\\n    </td>\\n    <td>\\n     <a href=\"#viewer\" onclick=\"openDisclsViewer(\\'20250103000772\\',\\'\\')\" title=\"자기주식매매체결내역(코스닥시장)\">\\n      자기주식매매체결내역(코스닥시장)\\n     </a>\\n    </td>\\n    <td>\\n     코스닥시장본부\\n    </td>\\n    <td class=\"txc\">\\n    </td>\\n   </tr>\\n  </tbody>\\n </table>\\n</section>\\n<!-- 페이징 START -->\\n<section class=\"paging-group\">\\n <div class=\"paging type-00\">\\n  <a class=\"pprev\" href=\"#prevPage10\" onclick=\"return false;\">\\n   <span>\\n    이전10개 페이지\\n   </span>\\n  </a>\\n  <a class=\"prev\" href=\"#prevPage\" onclick=\"return false;\">\\n   <span>\\n    이전 페이지\\n   </span>\\n  </a>\\n  <a class=\"active\" href=\"#page_link_1\" onclick=\"return false;\">\\n   1\\n  </a>\\n  <a href=\"#page_link_2\" onclick=\"fnPageGo(\\'2\\');return false;\">\\n   2\\n  </a>\\n  <a href=\"#page_link_3\" onclick=\"fnPageGo(\\'3\\');return false;\">\\n   3\\n  </a>\\n  <a href=\"#page_link_4\" onclick=\"fnPageGo(\\'4\\');return false;\">\\n   4\\n  </a>\\n  <a href=\"#page_link_5\" onclick=\"fnPageGo(\\'5\\');return false;\">\\n   5\\n  </a>\\n  <a href=\"#page_link_6\" onclick=\"fnPageGo(\\'6\\');return false;\">\\n   6\\n  </a>\\n  <a href=\"#page_link_7\" onclick=\"fnPageGo(\\'7\\');return false;\">\\n   7\\n  </a>\\n  <a href=\"#page_link_8\" onclick=\"fnPageGo(\\'8\\');return false;\">\\n   8\\n  </a>\\n  <a href=\"#page_link_9\" onclick=\"fnPageGo(\\'9\\');return false;\">\\n   9\\n  </a>\\n  <a href=\"#page_link_10\" onclick=\"fnPageGo(\\'10\\');return false;\">\\n   10\\n  </a>\\n  <a class=\"next\" href=\"#nextPage\" onclick=\"fnPageGo(\\'2\\');return false;\">\\n   <span>\\n    다음 페이지\\n   </span>\\n  </a>\\n  <a class=\"nnext\" href=\"#nextPage10\" onclick=\"fnPageGo(\\'11\\');return false;\">\\n   <span>\\n    다음10개 페이지\\n   </span>\\n  </a>\\n </div>\\n <div class=\"info type-00\">\\n  전체\\n  <em>\\n   494\\n  </em>\\n  건 :\\n  <strong>\\n   1\\n  </strong>\\n  /33\\n  <select id=\"currentPageSize\" name=\"currentPageSize\">\\n   <option selected=\"selected\" value=\"15\">\\n    15건\\n   </option>\\n   <option value=\"30\">\\n    30건\\n   </option>\\n   <option value=\"50\">\\n    50건\\n   </option>\\n   <option value=\"100\">\\n    100건\\n   </option>\\n  </select>\\n  <a class=\"btn-sprite btn-go vmiddle\" href=\"#\" onclick=\"fnSearch1();return false;\" title=\"GO\">\\n   <span>\\n    GO\\n   </span>\\n  </a>\\n </div>\\n</section>\\n<!-- 페이징 END -->\\n<script type=\"text/JavaScript\">\\n $(document).ready(function(){\\r\\n\\tvar svrGubun = \"real1\";\\r\\n\\tif( svrGubun.indexOf(\"dr\") >= 0 ){\\r\\n\\t\\tfn_InitTitle(\"시간,회사명,공시제목,제출인\", \"true,true,true,true\");\\r\\n\\t} else {\\r\\n\\t\\tfn_InitTitle(\"시간,회사명,공시제목,제출인,차트/주가\", \"true,true,true,true,false\");\\r\\n\\t}\\r\\n\\r\\n\\t$(\"input[name=\\'segment\\']:radio\").change(function(){\\r\\n\\t\\tconsole.log(this.value);\\r\\n\\t\\t$(\"#searchForm > #kosdaqSegment\").val(this.value);\\r\\n\\t\\tfnSearch();\\r\\n\\t});\\r\\n});\\n</script>\\n'"
      ]
     },
     "execution_count": 41,
     "metadata": {},
     "output_type": "execute_result"
    }
   ],
   "source": [
    "html_unicode = html.prettify()  # BeautifulSoup에서 파싱한 파서 트리를 유니코드 형태로 돌려놓기\n",
    "html_unicode"
   ]
  },
  {
   "cell_type": "code",
   "execution_count": 44,
   "metadata": {},
   "outputs": [
    {
     "name": "stderr",
     "output_type": "stream",
     "text": [
      "C:\\Users\\palsc\\AppData\\Local\\Temp\\ipykernel_49384\\1181271816.py:1: FutureWarning: Passing literal html to 'read_html' is deprecated and will be removed in a future version. To read from a literal string, wrap it in a 'StringIO' object.\n",
      "  tbl = pd.read_html(html.prettify())\n"
     ]
    },
    {
     "data": {
      "text/html": [
       "<div>\n",
       "<style scoped>\n",
       "    .dataframe tbody tr th:only-of-type {\n",
       "        vertical-align: middle;\n",
       "    }\n",
       "\n",
       "    .dataframe tbody tr th {\n",
       "        vertical-align: top;\n",
       "    }\n",
       "\n",
       "    .dataframe thead th {\n",
       "        text-align: right;\n",
       "    }\n",
       "</style>\n",
       "<table border=\"1\" class=\"dataframe\">\n",
       "  <thead>\n",
       "    <tr style=\"text-align: right;\">\n",
       "      <th></th>\n",
       "      <th>Unnamed: 0</th>\n",
       "      <th>Unnamed: 1</th>\n",
       "      <th>Unnamed: 2</th>\n",
       "      <th>Unnamed: 3</th>\n",
       "      <th>Unnamed: 4</th>\n",
       "    </tr>\n",
       "  </thead>\n",
       "  <tbody>\n",
       "    <tr>\n",
       "      <th>0</th>\n",
       "      <td>18:25</td>\n",
       "      <td>남양유업</td>\n",
       "      <td>[정정]  횡령ㆍ배임혐의발생</td>\n",
       "      <td>남양유업</td>\n",
       "      <td>공시차트  주가차트</td>\n",
       "    </tr>\n",
       "    <tr>\n",
       "      <th>1</th>\n",
       "      <td>18:10</td>\n",
       "      <td>NaN</td>\n",
       "      <td>일일 회전율 상위 20종목-ELW제외(유가증권시장)</td>\n",
       "      <td>유가증권시장본부</td>\n",
       "      <td>NaN</td>\n",
       "    </tr>\n",
       "    <tr>\n",
       "      <th>2</th>\n",
       "      <td>18:10</td>\n",
       "      <td>NaN</td>\n",
       "      <td>일일 회전율 상위 20종목-ELW포함(유가증권시장)</td>\n",
       "      <td>유가증권시장본부</td>\n",
       "      <td>NaN</td>\n",
       "    </tr>\n",
       "    <tr>\n",
       "      <th>3</th>\n",
       "      <td>18:10</td>\n",
       "      <td>NaN</td>\n",
       "      <td>대량매매내역(유가증권시장)</td>\n",
       "      <td>유가증권시장본부</td>\n",
       "      <td>NaN</td>\n",
       "    </tr>\n",
       "    <tr>\n",
       "      <th>4</th>\n",
       "      <td>18:10</td>\n",
       "      <td>NaN</td>\n",
       "      <td>자기주식매매 신청내역(유가증권시장)</td>\n",
       "      <td>유가증권시장본부</td>\n",
       "      <td>NaN</td>\n",
       "    </tr>\n",
       "  </tbody>\n",
       "</table>\n",
       "</div>"
      ],
      "text/plain": [
       "  Unnamed: 0 Unnamed: 1                    Unnamed: 2 Unnamed: 3  Unnamed: 4\n",
       "0      18:25       남양유업               [정정]  횡령ㆍ배임혐의발생       남양유업  공시차트  주가차트\n",
       "1      18:10        NaN  일일 회전율 상위 20종목-ELW제외(유가증권시장)   유가증권시장본부         NaN\n",
       "2      18:10        NaN  일일 회전율 상위 20종목-ELW포함(유가증권시장)   유가증권시장본부         NaN\n",
       "3      18:10        NaN                대량매매내역(유가증권시장)   유가증권시장본부         NaN\n",
       "4      18:10        NaN           자기주식매매 신청내역(유가증권시장)   유가증권시장본부         NaN"
      ]
     },
     "execution_count": 44,
     "metadata": {},
     "output_type": "execute_result"
    }
   ],
   "source": [
    "tbl = pd.read_html(html.prettify()) # html 문자열로 변환 후 read_html 사용\n",
    "tbl[0].head()"
   ]
  }
 ],
 "metadata": {
  "kernelspec": {
   "display_name": "quant",
   "language": "python",
   "name": "python3"
  },
  "language_info": {
   "codemirror_mode": {
    "name": "ipython",
    "version": 3
   },
   "file_extension": ".py",
   "mimetype": "text/x-python",
   "name": "python",
   "nbconvert_exporter": "python",
   "pygments_lexer": "ipython3",
   "version": "3.12.8"
  }
 },
 "nbformat": 4,
 "nbformat_minor": 2
}
