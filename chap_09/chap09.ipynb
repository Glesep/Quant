{
 "cells": [
  {
   "cell_type": "markdown",
   "metadata": {},
   "source": [
    "# 9.1"
   ]
  },
  {
   "cell_type": "markdown",
   "metadata": {},
   "source": [
    "## 9.1.1"
   ]
  },
  {
   "cell_type": "code",
   "execution_count": 1,
   "metadata": {},
   "outputs": [],
   "source": [
    "from selenium import webdriver\n",
    "from selenium.webdriver.chrome.service import Service\n",
    "from webdriver_manager.chrome import ChromeDriverManager\n",
    "from selenium.webdriver.common.by import By\n",
    "from selenium.webdriver.common.keys import Keys\n",
    "import time\n",
    "from bs4 import BeautifulSoup"
   ]
  },
  {
   "cell_type": "code",
   "execution_count": 2,
   "metadata": {},
   "outputs": [],
   "source": [
    "driver = webdriver.Chrome(service=Service(ChromeDriverManager().install()))"
   ]
  },
  {
   "cell_type": "code",
   "execution_count": null,
   "metadata": {},
   "outputs": [],
   "source": [
    "url = 'https://naver.com/'\n",
    "driver.get(url)\n",
    "driver.page_source[1:1000]"
   ]
  },
  {
   "cell_type": "code",
   "execution_count": 4,
   "metadata": {},
   "outputs": [],
   "source": [
    "# 브라우저 상에서 보이는 버튼, 검색창, 사진 등등을 엘리먼트라고 한다.\n",
    "# find_element() : element를 다양한 방법으로 접근할 수 있게 하는 함수\n",
    "# By : 어떤 방법으로 엘리먼트에 접근할 것인지 정함\n",
    "\n",
    "driver.find_element(By.LINK_TEXT, value='뉴스').click() # 뉴스 라는 링크가 달려있는 텍스트에 접근 후 .click() 함수로 마우스 클릭 수행"
   ]
  },
  {
   "cell_type": "code",
   "execution_count": 5,
   "metadata": {},
   "outputs": [],
   "source": [
    "driver.switch_to.window(driver.window_handles[1])   # 현재 열린 두번째 창으로 포커스 이동\n",
    "driver.close()  # 포커스 된 헤이지 닫기"
   ]
  },
  {
   "cell_type": "code",
   "execution_count": 6,
   "metadata": {},
   "outputs": [],
   "source": [
    "driver.switch_to.window(driver.window_handles[0])\n",
    "driver.find_element(By.CLASS_NAME, value='search_input').send_keys('퀀트 투자 포트폴리오 만들기')   # CLASS_NAME : 클래스명에 해당"
   ]
  },
  {
   "cell_type": "code",
   "execution_count": 7,
   "metadata": {},
   "outputs": [],
   "source": [
    "driver.find_element(By.CLASS_NAME, value='btn_search').send_keys(Keys.ENTER)    # Keys.ENTER : 엔터 키 누르기 수행"
   ]
  },
  {
   "cell_type": "code",
   "execution_count": 8,
   "metadata": {},
   "outputs": [],
   "source": [
    "# nx_query id에 해당하는 엘리먼트 내의 검색어 삭제 \n",
    "driver.find_element(By.ID, value='nx_query').clear()\n",
    "# nx_query id에 해당하는 엘리먼트 내에 이한열 퀀트 입력\n",
    "driver.find_element(By.ID, value='nx_query').send_keys('이현열 퀀트')\n",
    "# bt_search 클래스에 대해 클릭 수행\n",
    "driver.find_element(By.CLASS_NAME, value='bt_search').click()\n"
   ]
  },
  {
   "cell_type": "code",
   "execution_count": 9,
   "metadata": {},
   "outputs": [],
   "source": [
    "# XPATH : XML중 특정 값의 태그나 속성을 찾기 쉽게 만든 주소\n",
    "# XPATH를 이용해서 element 접근 예제\n",
    "driver.find_element(By.XPATH, value='//*[@id=\"lnb\"]/div[1]/div/div[1]/div/div[1]/div[1]/a').click() # 블로그 클릭\n",
    "driver.find_element(By.XPATH, value='//*[@id=\"snb\"]/div[1]/div/div[1]/a[2]').click()    # 최신순 클릭\n"
   ]
  },
  {
   "cell_type": "code",
   "execution_count": 10,
   "metadata": {},
   "outputs": [],
   "source": [
    "# pagedown 기능\n",
    "\n",
    "driver.execute_script('window.scrollTo(0, document.body.scrollHeight);')    # 자바스크립트 명령어 실행 함수\n",
    "# driver.find_element(By.TAG_NAME, value='body').send_keys(Keys.PAGE_DOWN)"
   ]
  },
  {
   "cell_type": "code",
   "execution_count": 11,
   "metadata": {},
   "outputs": [],
   "source": [
    "# 모든 결과가 나올 때 까지 페이지를 내리는 동작을 구현\n",
    "\n",
    "prev_height = driver.execute_script('return document.body.scrollHeight')\n",
    "\n",
    "while True:\n",
    "    driver.execute_script('window.scrollTo(0, document.body.scrollHeight);')\n",
    "    time.sleep(2)\n",
    "    \n",
    "    curr_height = driver.execute_script('return document.body.scrollHeight')\n",
    "    if curr_height == prev_height:\n",
    "        break\n",
    "    prev_height = curr_height"
   ]
  },
  {
   "cell_type": "code",
   "execution_count": null,
   "metadata": {},
   "outputs": [],
   "source": [
    "# 위의 행위로 인해 내가 뽑고 싶은 모든 데이터를 파악함\n",
    "# 이후는 정적 크롤링과 동일 수행\n",
    "html = BeautifulSoup(driver.page_source, 'lxml')\n",
    "txt = html.find_all(class_='title_link')\n",
    "txt_list = [i.get_text() for i in txt]\n",
    "\n",
    "txt_list[0:100]"
   ]
  },
  {
   "cell_type": "code",
   "execution_count": null,
   "metadata": {},
   "outputs": [],
   "source": [
    "# 열려있는 페이지 종료\n",
    "driver.quit()"
   ]
  }
 ],
 "metadata": {
  "kernelspec": {
   "display_name": "quant",
   "language": "python",
   "name": "python3"
  },
  "language_info": {
   "codemirror_mode": {
    "name": "ipython",
    "version": 3
   },
   "file_extension": ".py",
   "mimetype": "text/x-python",
   "name": "python",
   "nbconvert_exporter": "python",
   "pygments_lexer": "ipython3",
   "version": "3.12.3"
  }
 },
 "nbformat": 4,
 "nbformat_minor": 2
}
