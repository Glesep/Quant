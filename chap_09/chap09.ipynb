{
 "cells": [
  {
   "cell_type": "markdown",
   "metadata": {},
   "source": [
    "# 9.1"
   ]
  },
  {
   "cell_type": "markdown",
   "metadata": {},
   "source": [
    "## 9.1.1"
   ]
  },
  {
   "cell_type": "code",
   "execution_count": 1,
   "metadata": {},
   "outputs": [],
   "source": [
    "from selenium import webdriver\n",
    "from selenium.webdriver.chrome.service import Service\n",
    "from webdriver_manager.chrome import ChromeDriverManager\n",
    "from selenium.webdriver.common.by import By\n",
    "from selenium.webdriver.common.keys import Keys\n",
    "import time\n",
    "from bs4 import BeautifulSoup"
   ]
  },
  {
   "cell_type": "code",
   "execution_count": 2,
   "metadata": {},
   "outputs": [],
   "source": [
    "driver = webdriver.Chrome(service=Service(ChromeDriverManager().install()))"
   ]
  },
  {
   "cell_type": "code",
   "execution_count": 3,
   "metadata": {},
   "outputs": [
    {
     "data": {
      "text/plain": [
       "'html lang=\"ko\" class=\"fzoom\" data-dark=\"false\"><head><script async=\"\" src=\"https://ntm.pstatic.net/ex/nlog.js\"></script><script async=\"\" type=\"text/javascript\" src=\"https://ssl.pstatic.net/tveta/libs/ndpsdk/prod/ndp-core.js\"></script> <meta charset=\"utf-8\"> <meta name=\"Referrer\" content=\"origin\"> <meta http-equiv=\"X-UA-Compatible\" content=\"IE=edge\"> <meta name=\"viewport\" content=\"width=1190\"> <title>NAVER</title> <meta name=\"apple-mobile-web-app-title\" content=\"NAVER\"> <meta name=\"robots\" content=\"index,nofollow\"> <meta name=\"description\" content=\"네이버 메인에서 다양한 정보와 유용한 컨텐츠를 만나 보세요\"> <meta property=\"og:title\" content=\"네이버\"> <meta property=\"og:url\" content=\"https://www.naver.com/\"> <meta property=\"og:image\" content=\"https://s.pstatic.net/static/www/mobile/edit/2016/0705/mobile_212852414260.png\"> <meta property=\"og:description\" content=\"네이버 메인에서 다양한 정보와 유용한 컨텐츠를 만나 보세요\"> <meta name=\"twitter:card\" content=\"summary\"> <meta name=\"twitter:title\" content=\"\"> <meta name=\"twitter:url\" content=\"h'"
      ]
     },
     "execution_count": 3,
     "metadata": {},
     "output_type": "execute_result"
    }
   ],
   "source": [
    "url = 'https://naver.com/'\n",
    "driver.get(url)\n",
    "driver.page_source[1:1000]"
   ]
  },
  {
   "cell_type": "code",
   "execution_count": 4,
   "metadata": {},
   "outputs": [],
   "source": [
    "# 브라우저 상에서 보이는 버튼, 검색창, 사진 등등을 엘리먼트라고 한다.\n",
    "# find_element() : element를 다양한 방법으로 접근할 수 있게 하는 함수\n",
    "# By : 어떤 방법으로 엘리먼트에 접근할 것인지 정함\n",
    "\n",
    "driver.find_element(By.LINK_TEXT, value='뉴스').click() # 뉴스 라는 링크가 달려있는 텍스트에 접근 후 .click() 함수로 마우스 클릭 수행"
   ]
  },
  {
   "cell_type": "code",
   "execution_count": 5,
   "metadata": {},
   "outputs": [],
   "source": [
    "driver.switch_to.window(driver.window_handles[1])   # 현재 열린 두번째 창으로 포커스 이동\n",
    "driver.close()  # 포커스 된 헤이지 닫기"
   ]
  },
  {
   "cell_type": "code",
   "execution_count": 6,
   "metadata": {},
   "outputs": [],
   "source": [
    "driver.switch_to.window(driver.window_handles[0])\n",
    "driver.find_element(By.CLASS_NAME, value='search_input').send_keys('퀀트 투자 포트폴리오 만들기')   # CLASS_NAME : 클래스명에 해당"
   ]
  },
  {
   "cell_type": "code",
   "execution_count": 7,
   "metadata": {},
   "outputs": [],
   "source": [
    "driver.find_element(By.CLASS_NAME, value='btn_search').send_keys(Keys.ENTER)    # Keys.ENTER : 엔터 키 누르기 수행"
   ]
  },
  {
   "cell_type": "code",
   "execution_count": 8,
   "metadata": {},
   "outputs": [],
   "source": [
    "# nx_query id에 해당하는 엘리먼트 내의 검색어 삭제 \n",
    "driver.find_element(By.ID, value='nx_query').clear()\n",
    "# nx_query id에 해당하는 엘리먼트 내에 이한열 퀀트 입력\n",
    "driver.find_element(By.ID, value='nx_query').send_keys('이현열 퀀트')\n",
    "# bt_search 클래스에 대해 클릭 수행\n",
    "driver.find_element(By.CLASS_NAME, value='bt_search').click()\n"
   ]
  },
  {
   "cell_type": "code",
   "execution_count": 9,
   "metadata": {},
   "outputs": [],
   "source": [
    "# XPATH : XML중 특정 값의 태그나 속성을 찾기 쉽게 만든 주소\n",
    "# XPATH를 이용해서 element 접근 예제\n",
    "driver.find_element(By.XPATH, value='//*[@id=\"lnb\"]/div[1]/div/div[1]/div/div[1]/div[1]/a').click() # 블로그 클릭\n",
    "driver.find_element(By.XPATH, value='//*[@id=\"snb\"]/div[1]/div/div[1]/a[2]').click()    # 최신순 클릭\n"
   ]
  },
  {
   "cell_type": "code",
   "execution_count": 10,
   "metadata": {},
   "outputs": [],
   "source": [
    "# pagedown 기능\n",
    "\n",
    "driver.execute_script('window.scrollTo(0, document.body.scrollHeight);')    # 자바스크립트 명령어 실행 함수\n",
    "# driver.find_element(By.TAG_NAME, value='body').send_keys(Keys.PAGE_DOWN)"
   ]
  },
  {
   "cell_type": "code",
   "execution_count": 11,
   "metadata": {},
   "outputs": [],
   "source": [
    "# 모든 결과가 나올 때 까지 페이지를 내리는 동작을 구현\n",
    "\n",
    "prev_height = driver.execute_script('return document.body.scrollHeight')\n",
    "\n",
    "while True:\n",
    "    driver.execute_script('window.scrollTo(0, document.body.scrollHeight);')\n",
    "    time.sleep(2)\n",
    "    \n",
    "    curr_height = driver.execute_script('return document.body.scrollHeight')\n",
    "    if curr_height == prev_height:\n",
    "        break\n",
    "    prev_height = curr_height"
   ]
  },
  {
   "cell_type": "code",
   "execution_count": 13,
   "metadata": {},
   "outputs": [
    {
     "data": {
      "text/plain": [
       "['추세추종 VS 평균회귀',\n",
       " '미국 시장에서 모멘텀 전략은 여전히 유효할까?',\n",
       " '모두가 좋은 전략을 따라 하면 수익률이 감소할까?',\n",
       " '<헤지펀드 열전 More money than god 세바스찬 말라비>',\n",
       " '[100자평] 감으로 하는 투자 데이터로 하는 투자',\n",
       " '감정을 이기는 퀀트투자, 스마트베타, 김병규, 이현열',\n",
       " '팩터 포트폴리오/퀀트 트레이딩/통계적 차익거래',\n",
       " 'quant',\n",
       " '2022 DB GAPS 대회 후기 (2022-06 ~ 2022-10)',\n",
       " '금융 전공 희망자들 필독 - 퀀트에 대한 이현열 작가님의 견해에 덧붙여....',\n",
       " '소유의 끝은 나눔 : 우리집에 있는 책 곧 나눔할 책 목록들',\n",
       " '감으로 하는 투자 데이터로 하는 투자 독서리뷰',\n",
       " '0. 시작하기 전에',\n",
       " '빌리 월터스 겜블러 블랙잭 라스베이거스 필메켈슨 스포츠베팅 카지노',\n",
       " '[도서] 실전 퀀트투자 - 저가 종목, 모멘텀 투자, 시가종가 매매',\n",
       " '카이스트 대학원 DFMBA 2학년 봄 학기 수강신청',\n",
       " '[PY_G_초급] pandas.DataFrame()',\n",
       " '[PY_G_초급] pandas.Series()',\n",
       " '[PY_G_초급] 기초문법',\n",
       " '월가의 퀀트투자 바이블, 스마트 베타',\n",
       " '신진오님의 시선으로 본 투자의 세계해석(벤저민 그레이엄 현명한 투자자 해석) - 현명한 투자자2 해제(신진오)',\n",
       " '2019-1학기 금융공학회 기록',\n",
       " '2023년 12월 주식 투자 결산',\n",
       " '[서평] 헤지펀드 열전',\n",
       " '[독서기록 #34] 헤지펀드 열전 『금융시장에서 돈을 벌고 싶은데, 방법을 모르는 사람들은 꼭 읽어봐야... ',\n",
       " '[책] 파이썬을 이용한 퀀트 투자 포트폴리오 만들기 (이현열)',\n",
       " '[이런저런 공부] 포트폴리오 최적화의 예',\n",
       " '20231122 멱(冪)파레토 독서법',\n",
       " '[책] R을 이용한 퀀트 투자 포트폴리오 만들기 (이현열)',\n",
       " '에드워드 소프의 생애에 관한 영상',\n",
       " '과거의 검증, 미래의 투자_안티 일마넨',\n",
       " '[서평] 과거의 검증, 미래의 투자 / 안티 일마넨 / 워터베어프레스 / 23.10월',\n",
       " '[서평] 과거의 검증, 미래의 투자',\n",
       " '[서평] 과거의 검증, 미래의 투자 (어려운 시기를 이겨내는 최선의 투자법을 찾아서) / 안티 일마넨... ',\n",
       " '20231011 멱(冪)파레토 독서법',\n",
       " 'Post 형식의 웹 데이터를 크롤링 해보자',\n",
       " '최근 읽은 책 2권',\n",
       " '2차 금융 전문가 강연 후기',\n",
       " '[KRX Futurestar 3기] 금융감독원 박현섭 국장님 특별 강연/ 두물머리 이현열 이사님 전문가 강연후기',\n",
       " '[KRX FUTURESTAR 3기] 전문가 강연 (2차) 후기',\n",
       " '[ 똑똑! 선물이 왔어요 / 기타활동 ] 7/12 슬기로운 금융생활, 데이터 분석 투자 강연 후기',\n",
       " 'KRX Futurestar 전문가 강연 2차 후기',\n",
       " '주식투자 유익한 영상 추천 \"트레이딩 룸에 들어가면 가장 먼저 배우는 3가지\" 통계적 사고와 트레이딩... ',\n",
       " '[KRX FutureStar] 금융감독원 금융정보, 두물머리 데이터 강연',\n",
       " '[KRX FutureStar3기 파스-특강] 2차 전문가 강연 후기',\n",
       " '[KRX FutureStar 3기][빵생상품] 7/12 전문가 강연 2차 후기! 한국금융공학학회 국제학술대회... ',\n",
       " '[KRX Futurestar 3기] 전문가 초청 강연 2차 후기',\n",
       " '[KRX Futurestar 3기_MBTI] 7/12 (수) 전문가 강연 2차 특강 후기',\n",
       " '[✨별이 빛나는 밤_기타활동] 특별강연 및 2차 전문가 강연 후기',\n",
       " '[5번방의 선물] 전문가 강연 (2차)',\n",
       " '[KRX Futurestar] 두 번째 전문가 강연 | 금융감독원 박현섭 국장님, 두물머리 이현열 이사님 강연 후기',\n",
       " '7/12 (수) 2차 전문가 강연 후기',\n",
       " '[5번 방의 선물] FutureStar 3기 전문가 강연 후기(2차)',\n",
       " 'KRX FutureStar 3기 두번째 전문가 강연 (feat. 이현열 이사님)',\n",
       " '강환국님에 대해 이현열님이 쓰신 글',\n",
       " '감으로 하는 투자 데이터로 하는 투자 - 감도 필요하다.',\n",
       " '스마트베타',\n",
       " '퀀트투자의 뜻 파이썬으로 배워보는건 어떠신가요?',\n",
       " '퀀트 투자 전문가 과정 3기 모집 안내!',\n",
       " '[책] 파이썬을 이용한 퀀트 투자 포트폴리오 만들기 (이현열, 제이펍, 2023년)',\n",
       " '서재',\n",
       " '주식매매는 파이썬에게 맡겨보자! (서평/퀀트투자 포트폴리오 만들기)',\n",
       " '[리뷰] 퀀트투자 포트폴리오 만들기 (파이썬 활용)',\n",
       " '책&eBook)파이썬을 이용한 퀀트 투자 포트폴리오 만들기 :: 경제PLUS',\n",
       " '2023년 2차 희망1',\n",
       " '퀀트 투자 포트폴리오 만들기',\n",
       " '실제 퀀트가 진짜 수익을 내는 방법! 퀀트 투자의 모든 과정을 담다',\n",
       " 'R에서 셀레니움 사용하기 (드라이버 자동설치)',\n",
       " '책읽기 2022년',\n",
       " '감으로 하는 투자, 데이터로 하는 투자 - 천영록, 이한열',\n",
       " '2022년 독서 기록 및 2023년 계획',\n",
       " '다이렉트 인덱싱과 패시브 투자의 개인화에 대한 생각',\n",
       " '[감으로 하는 투자, 데이터로 하는 투자] 책리뷰/ 재테크, 부자, 주식, 서평, 천영록, 이현열, \"돈버는 주식... ',\n",
       " '[책 리뷰] 감으로하는 투자,데이터로 하는 투자.',\n",
       " '리스트 2022',\n",
       " '감으로 하는 투자,데이터로 하는 투자 (천영록, 이현열, 2022)',\n",
       " '[인강] Fastcampus 2년간 이용후기',\n",
       " '넥스트 레벨',\n",
       " '[홍보] 퀀트교육과정',\n",
       " '드디어 두물머리에서 퀀트 개발자 육성(?) 프로그램이...',\n",
       " 'B.720 감으로 하는 투자, 데이터로 하는 투자ㅣ“데이터는 거짓말을 하지 않는다”',\n",
       " '스마트 베타_김병규, 이현열',\n",
       " '감으로 하는 투자, 데이터로 하는 투자',\n",
       " 'Investment Book 25 - 감으로 하는 투자 데이터로 하는 투자',\n",
       " '퀀트 투자자라면 반드시 생각해야 할 7가지',\n",
       " '[주식] 올라떼 - 구루(guru)들의 주식투자(1탄)',\n",
       " '패스트캠퍼스 캐시백 챌린지 44일차',\n",
       " '[재테크도서] 감으로 하는 투자 데이터로 하는 투자 - 천영록,이현열 저.',\n",
       " '‘분산-장투해라’ 감으로하는 투자, 데이터로 하는 투자, 천영록-이현열',\n",
       " '패스트캠퍼스 캐시백 챌린지 중간미션, R을 활용한 퀀트 전략 강의 후기',\n",
       " '\"감으로 하는 투자, 데이터로 하는 투자\"',\n",
       " '[독후감] 감으로 하는 투자, 데이터로 하는 투자',\n",
       " '감으로 하는 투자 데이터로 하는 투자, 천영록 이현열 - 주식 독서 모임 ClubQ',\n",
       " '확률을 높이기 위한 『감으로 하는 투자 데이터로 하는 투자』서평',\n",
       " '[책] 감으로 하는 투자, 데이터로 하는 투자 (천영록, 이현열)',\n",
       " '퀀트투자 시작한다면? 천영록 이현열님의 신간 - 경제도서 22년04',\n",
       " '감으로 하는 투자 데이터로 하는 투자',\n",
       " '60억 자산가 강환국? 퀀트 이모조모',\n",
       " '감으로 하는 투자, 데이터로 하는 투자',\n",
       " '감으로 하는 투자, 데이터로 하는 투자']"
      ]
     },
     "execution_count": 13,
     "metadata": {},
     "output_type": "execute_result"
    }
   ],
   "source": [
    "# 위의 행위로 인해 내가 뽑고 싶은 모든 데이터를 파악함\n",
    "# 이후는 정적 크롤링과 동일 수행\n",
    "html = BeautifulSoup(driver.page_source, 'lxml')\n",
    "txt = html.find_all(class_='title_link')\n",
    "txt_list = [i.get_text() for i in txt]\n",
    "\n",
    "txt_list[0:100]"
   ]
  },
  {
   "cell_type": "code",
   "execution_count": null,
   "metadata": {},
   "outputs": [],
   "source": [
    "# 열려있는 페이지 종료\n",
    "driver.quit()"
   ]
  }
 ],
 "metadata": {
  "kernelspec": {
   "display_name": "quant",
   "language": "python",
   "name": "python3"
  },
  "language_info": {
   "codemirror_mode": {
    "name": "ipython",
    "version": 3
   },
   "file_extension": ".py",
   "mimetype": "text/x-python",
   "name": "python",
   "nbconvert_exporter": "python",
   "pygments_lexer": "ipython3",
   "version": "3.12.3"
  }
 },
 "nbformat": 4,
 "nbformat_minor": 2
}
