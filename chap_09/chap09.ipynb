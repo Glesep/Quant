{
 "cells": [
  {
   "cell_type": "markdown",
   "metadata": {},
   "source": [
    "# 9.1"
   ]
  },
  {
   "cell_type": "markdown",
   "metadata": {},
   "source": [
    "## 9.1.1"
   ]
  },
  {
   "cell_type": "code",
   "execution_count": 1,
   "metadata": {},
   "outputs": [],
   "source": [
    "from selenium import webdriver\n",
    "from selenium.webdriver.chrome.service import Service\n",
    "from webdriver_manager.chrome import ChromeDriverManager\n",
    "from selenium.webdriver.common.by import By\n",
    "from selenium.webdriver.common.keys import Keys\n",
    "import time\n",
    "from bs4 import BeautifulSoup"
   ]
  },
  {
   "cell_type": "code",
   "execution_count": 2,
   "metadata": {},
   "outputs": [],
   "source": [
    "driver = webdriver.Chrome(service=Service(ChromeDriverManager().install()))"
   ]
  },
  {
   "cell_type": "code",
   "execution_count": null,
   "metadata": {},
   "outputs": [],
   "source": [
    "url = 'https://naver.com/'\n",
    "driver.get(url)\n",
    "driver.page_source[1:1000]"
   ]
  },
  {
   "cell_type": "code",
   "execution_count": 4,
   "metadata": {},
   "outputs": [],
   "source": [
    "# 브라우저 상에서 보이는 버튼, 검색창, 사진 등등을 엘리먼트라고 한다.\n",
    "# find_element() : element를 다양한 방법으로 접근할 수 있게 하는 함수\n",
    "# By : 어떤 방법으로 엘리먼트에 접근할 것인지 정함\n",
    "\n",
    "driver.find_element(By.LINK_TEXT, value='뉴스').click() # 뉴스 라는 링크가 달려있는 텍스트에 접근 후 .click() 함수로 마우스 클릭 수행"
   ]
  },
  {
   "cell_type": "code",
   "execution_count": 5,
   "metadata": {},
   "outputs": [],
   "source": [
    "driver.switch_to.window(driver.window_handles[1])   # 현재 열린 두번째 창으로 포커스 이동\n",
    "driver.close()  # 포커스 된 헤이지 닫기"
   ]
  },
  {
   "cell_type": "code",
   "execution_count": 6,
   "metadata": {},
   "outputs": [],
   "source": [
    "driver.switch_to.window(driver.window_handles[0])\n",
    "driver.find_element(By.CLASS_NAME, value='search_input').send_keys('퀀트 투자 포트폴리오 만들기')   # CLASS_NAME : 클래스명에 해당"
   ]
  },
  {
   "cell_type": "code",
   "execution_count": 7,
   "metadata": {},
   "outputs": [],
   "source": [
    "driver.find_element(By.CLASS_NAME, value='btn_search').send_keys(Keys.ENTER)    # Keys.ENTER : 엔터 키 누르기 수행"
   ]
  },
  {
   "cell_type": "code",
   "execution_count": 8,
   "metadata": {},
   "outputs": [],
   "source": [
    "# nx_query id에 해당하는 엘리먼트 내의 검색어 삭제 \n",
    "driver.find_element(By.ID, value='nx_query').clear()\n",
    "# nx_query id에 해당하는 엘리먼트 내에 이한열 퀀트 입력\n",
    "driver.find_element(By.ID, value='nx_query').send_keys('이현열 퀀트')\n",
    "# bt_search 클래스에 대해 클릭 수행\n",
    "driver.find_element(By.CLASS_NAME, value='bt_search').click()\n"
   ]
  },
  {
   "cell_type": "code",
   "execution_count": 9,
   "metadata": {},
   "outputs": [],
   "source": [
    "# XPATH : XML중 특정 값의 태그나 속성을 찾기 쉽게 만든 주소\n",
    "# XPATH를 이용해서 element 접근 예제\n",
    "driver.find_element(By.XPATH, value='//*[@id=\"lnb\"]/div[1]/div/div[1]/div/div[1]/div[1]/a').click() # 블로그 클릭\n",
    "driver.find_element(By.XPATH, value='//*[@id=\"snb\"]/div[1]/div/div[1]/a[2]').click()    # 최신순 클릭\n"
   ]
  },
  {
   "cell_type": "code",
   "execution_count": 10,
   "metadata": {},
   "outputs": [],
   "source": [
    "# pagedown 기능\n",
    "\n",
    "driver.execute_script('window.scrollTo(0, document.body.scrollHeight);')    # 자바스크립트 명령어 실행 함수\n",
    "# driver.find_element(By.TAG_NAME, value='body').send_keys(Keys.PAGE_DOWN)"
   ]
  },
  {
   "cell_type": "code",
   "execution_count": 11,
   "metadata": {},
   "outputs": [],
   "source": [
    "# 모든 결과가 나올 때 까지 페이지를 내리는 동작을 구현\n",
    "\n",
    "prev_height = driver.execute_script('return document.body.scrollHeight')\n",
    "\n",
    "while True:\n",
    "    driver.execute_script('window.scrollTo(0, document.body.scrollHeight);')\n",
    "    time.sleep(2)\n",
    "    \n",
    "    curr_height = driver.execute_script('return document.body.scrollHeight')\n",
    "    if curr_height == prev_height:\n",
    "        break\n",
    "    prev_height = curr_height"
   ]
  },
  {
   "cell_type": "code",
   "execution_count": null,
   "metadata": {},
   "outputs": [],
   "source": [
    "# 위의 행위로 인해 내가 뽑고 싶은 모든 데이터를 파악함\n",
    "# 이후는 정적 크롤링과 동일 수행\n",
    "html = BeautifulSoup(driver.page_source, 'lxml')\n",
    "txt = html.find_all(class_='title_link')\n",
    "txt_list = [i.get_text() for i in txt]\n",
    "\n",
    "txt_list[0:100]"
   ]
  },
  {
   "cell_type": "code",
   "execution_count": null,
   "metadata": {},
   "outputs": [],
   "source": [
    "# 열려있는 페이지 종료\n",
    "driver.quit()"
   ]
  },
  {
   "cell_type": "markdown",
   "metadata": {},
   "source": [
    "---"
   ]
  },
  {
   "cell_type": "markdown",
   "metadata": {},
   "source": [
    "# 9.2"
   ]
  },
  {
   "cell_type": "markdown",
   "metadata": {},
   "source": [
    "## 9.2.3"
   ]
  },
  {
   "cell_type": "markdown",
   "metadata": {},
   "source": [
    "### match()"
   ]
  },
  {
   "cell_type": "code",
   "execution_count": 2,
   "metadata": {},
   "outputs": [
    {
     "data": {
      "text/plain": [
       "re.Pattern"
      ]
     },
     "execution_count": 2,
     "metadata": {},
     "output_type": "execute_result"
    }
   ],
   "source": [
    "import re   # 이 라이브러리를 통해 정규 표현식 사용할 수 있음\n",
    "\n",
    "p = re.compile('[a-z]+')    # 정규 표현식을 컴파일하여 변수에 저장한 후 사용\n",
    "type(p)"
   ]
  },
  {
   "cell_type": "code",
   "execution_count": 3,
   "metadata": {},
   "outputs": [
    {
     "name": "stdout",
     "output_type": "stream",
     "text": [
      "<re.Match object; span=(0, 6), match='python'>\n"
     ]
    }
   ],
   "source": [
    "m = p.match('python')   # 처음부터 정규 표현식과 일치하는 패턴을 찾을 수 있음 - 일치하면 match 객체를 반환함\n",
    "print(m)"
   ]
  },
  {
   "cell_type": "code",
   "execution_count": 4,
   "metadata": {},
   "outputs": [
    {
     "data": {
      "text/plain": [
       "'python'"
      ]
     },
     "execution_count": 4,
     "metadata": {},
     "output_type": "execute_result"
    }
   ],
   "source": [
    "m.group()   # group() 사용 시 매치된 텍스트만 출력"
   ]
  },
  {
   "cell_type": "code",
   "execution_count": 5,
   "metadata": {},
   "outputs": [
    {
     "name": "stdout",
     "output_type": "stream",
     "text": [
      "None\n"
     ]
    }
   ],
   "source": [
    "m = p.match('Use python')   # 맨 처음의 문자 U가 대문자여서 정규 표현식과는 매치되지 않아 None을 반환\n",
    "print(m)"
   ]
  },
  {
   "cell_type": "code",
   "execution_count": 10,
   "metadata": {},
   "outputs": [
    {
     "name": "stdout",
     "output_type": "stream",
     "text": [
      "<re.Match object; span=(0, 2), match='py'>\n"
     ]
    }
   ],
   "source": [
    "m = p.match('pyTHON')\n",
    "print(m)"
   ]
  },
  {
   "cell_type": "code",
   "execution_count": 11,
   "metadata": {},
   "outputs": [
    {
     "name": "stdout",
     "output_type": "stream",
     "text": [
      "<re.Match object; span=(0, 3), match='파이썬'>\n"
     ]
    }
   ],
   "source": [
    "p = re.compile('[가-힣]+')\n",
    "m = p.match('파이썬')\n",
    "print(m)"
   ]
  },
  {
   "cell_type": "markdown",
   "metadata": {},
   "source": [
    "### search()"
   ]
  },
  {
   "cell_type": "code",
   "execution_count": 13,
   "metadata": {},
   "outputs": [
    {
     "name": "stdout",
     "output_type": "stream",
     "text": [
      "<re.Match object; span=(0, 6), match='python'>\n"
     ]
    }
   ],
   "source": [
    "# search 함수는 첫 번째로 일치하는 패턴을 찾음\n",
    "# match() : 처음부터 조건에 맞는 곳까지 전부 체크, 처음부터 틀리면 None 출력 / search() : 글자 하나하나씩 검색해서 처음부터 틀려도 다음 문자를 체크함\n",
    "\n",
    "p = re.compile('[a-z]+')\n",
    "m = p.search('python')\n",
    "print(m)"
   ]
  },
  {
   "cell_type": "code",
   "execution_count": 14,
   "metadata": {},
   "outputs": [
    {
     "name": "stdout",
     "output_type": "stream",
     "text": [
      "<re.Match object; span=(1, 3), match='se'>\n"
     ]
    }
   ],
   "source": [
    "m = p.search('Use python')\n",
    "print(m)"
   ]
  },
  {
   "cell_type": "markdown",
   "metadata": {},
   "source": [
    "### findall()"
   ]
  },
  {
   "cell_type": "code",
   "execution_count": 15,
   "metadata": {},
   "outputs": [
    {
     "name": "stdout",
     "output_type": "stream",
     "text": [
      "['Life', 'is', 'too', 'short', 'You', 'need', 'Python']\n"
     ]
    }
   ],
   "source": [
    "# 정규 표현식과 매치되는 \"모든 단어\"를 리스트 형태로 반환\n",
    "\n",
    "p = re.compile('[a-zA-Z]+')\n",
    "m = p.findall('Life is too short, You need Python.')\n",
    "print(m)"
   ]
  },
  {
   "cell_type": "markdown",
   "metadata": {},
   "source": [
    "### finditer()"
   ]
  },
  {
   "cell_type": "code",
   "execution_count": 17,
   "metadata": {},
   "outputs": [
    {
     "name": "stdout",
     "output_type": "stream",
     "text": [
      "<callable_iterator object at 0x000001E47BABFA90>\n"
     ]
    }
   ],
   "source": [
    "# findall()과 매커니즘 같음\n",
    "# 반복 가능한 객체를 반환 - for문 통해 출력 가능\n",
    "\n",
    "p = re.compile('[a-zA-Z]+')\n",
    "m = p.finditer('Life is too short, You need Python.')\n",
    "print(m)"
   ]
  },
  {
   "cell_type": "code",
   "execution_count": 18,
   "metadata": {},
   "outputs": [
    {
     "name": "stdout",
     "output_type": "stream",
     "text": [
      "<re.Match object; span=(0, 4), match='Life'>\n",
      "<re.Match object; span=(5, 7), match='is'>\n",
      "<re.Match object; span=(8, 11), match='too'>\n",
      "<re.Match object; span=(12, 17), match='short'>\n",
      "<re.Match object; span=(19, 22), match='You'>\n",
      "<re.Match object; span=(23, 27), match='need'>\n",
      "<re.Match object; span=(28, 34), match='Python'>\n"
     ]
    }
   ],
   "source": [
    "for i in m:\n",
    "    print(i)"
   ]
  },
  {
   "cell_type": "markdown",
   "metadata": {},
   "source": [
    "### 정규 표현식 연습"
   ]
  },
  {
   "cell_type": "code",
   "execution_count": 19,
   "metadata": {},
   "outputs": [
    {
     "name": "stdout",
     "output_type": "stream",
     "text": [
      "['15', '23', '29', '29', '34', '40', '44']\n"
     ]
    }
   ],
   "source": [
    "# 여러 문자들 사이에 숫자만 뽑아내기\n",
    "\n",
    "num = \"\"\"\n",
    "    r\\n\\t\\t\\t\\t\\t\\t\\t\\t\\t\\t15\\t\\t\\t\\t\\t\\n\\r\\r\\b\\b\\b23\\t\\t\\t\\t\\t\\t\\t\\t29\\t\\t\\t\\t\\b\\b\\b\\b\\b29\\t\\t\\t\\t\\n34\\t\\t\\t\\t\\t\\t\\b\\b\\b40\\t\\t\\t\\t\\t\\t44\\t\\t\\t\\t\n",
    "\"\"\"\n",
    "\n",
    "import re\n",
    "p = re.compile('[0-9]+')\n",
    "m = p.findall(num)\n",
    "print(m)"
   ]
  },
  {
   "cell_type": "code",
   "execution_count": 20,
   "metadata": {},
   "outputs": [
    {
     "data": {
      "text/plain": [
       "['2022.12.31']"
      ]
     },
     "execution_count": 20,
     "metadata": {},
     "output_type": "execute_result"
    }
   ],
   "source": [
    "# 날짜 뽑아내기\n",
    "\n",
    "dt = \"> 오늘의 날짜는 2022.12.31 입니다.\"\n",
    "\n",
    "p = re.compile('[0-9]+.[0-9]+.[0-9]+')\n",
    "p.findall(dt)"
   ]
  },
  {
   "cell_type": "code",
   "execution_count": 22,
   "metadata": {},
   "outputs": [
    {
     "name": "stdout",
     "output_type": "stream",
     "text": [
      "['2022', '12', '31']\n"
     ]
    },
    {
     "data": {
      "text/plain": [
       "'20221231'"
      ]
     },
     "execution_count": 22,
     "metadata": {},
     "output_type": "execute_result"
    }
   ],
   "source": [
    "p = re.compile('[0-9]+')\n",
    "m = p.findall(dt)\n",
    "print(m)\n",
    "''.join(m)  # 리스트 내 요소를 구분자로 나눠 결합"
   ]
  }
 ],
 "metadata": {
  "kernelspec": {
   "display_name": "quant",
   "language": "python",
   "name": "python3"
  },
  "language_info": {
   "codemirror_mode": {
    "name": "ipython",
    "version": 3
   },
   "file_extension": ".py",
   "mimetype": "text/x-python",
   "name": "python",
   "nbconvert_exporter": "python",
   "pygments_lexer": "ipython3",
   "version": "3.12.3"
  }
 },
 "nbformat": 4,
 "nbformat_minor": 2
}
